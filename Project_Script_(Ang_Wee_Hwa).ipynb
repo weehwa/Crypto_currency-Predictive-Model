{
 "cells": [
  {
   "cell_type": "markdown",
   "metadata": {},
   "source": [
    "# To find the percentage increase/decrease for the next 5 mins of Bitcoins."
   ]
  },
  {
   "cell_type": "markdown",
   "metadata": {},
   "source": [
    "Cryptocurrency had been on the raise in recent years and increments had been obvious in recent months and prices had been very volatile, the purpose of this machines learning is to predict percentage increase/decrease in the next 5mins of bitcoins. The study of this project is solely for academic purpose as prices may be affected by varies other sources example will be news of new partnership or closure of certain core purpose of the crypto. Hence please understand the risk and do your own study when making any investements. "
   ]
  },
  {
   "cell_type": "markdown",
   "metadata": {},
   "source": [
    "# The project will be broken into 3 sections.\n",
    "## Part A: Reading and cleaning the data.\n",
    "We will select the libarary yfinance which takes the live data from yahoo finance. We will be selecting 18 coins including bitcoins for the study.\n",
    "## Part B: Analysis of the data.\n",
    "We will do a analysis on the merge data, finding the correlationship between the tokens.For question 2 we will import yfinance bitcoins.\n",
    "\n",
    "Sub Questions: \n",
    "\n",
    "1) When are the correlationship between the coins.\\\n",
    "2) When is the best time to purchase bitcoins\n",
    "\n",
    "## Part C: Machine learning with varies models and select the best for tuning.\n",
    "We will be using regression model for this study as we will be predicting the furture price increment or decrease percentage of bitcoins. We will be using 2 models and 2 ensemble methods namely:\n",
    "\n",
    "1) Linear Regression\\\n",
    "2) SVR\\\n",
    "3) XGBoost\\\n",
    "4) Random Forest\\\n",
    "And select the model with the best result to do fine tuning.\n",
    "\n",
    "***Please note that we will be using real life data hence with every reset best fit model may differs***"
   ]
  },
  {
   "cell_type": "markdown",
   "metadata": {},
   "source": [
    "# PART A: Reading and cleaning the data"
   ]
  },
  {
   "cell_type": "code",
   "execution_count": 1,
   "metadata": {},
   "outputs": [],
   "source": [
    "# Import the libaries needed\n",
    "\n",
    "import pandas as pd\n",
    "import yfinance as yf\n",
    "import matplotlib.pyplot as plt\n",
    "from sklearn.model_selection import train_test_split\n",
    "from sklearn.preprocessing import StandardScaler\n",
    "import datetime\n",
    "from sklearn.linear_model import LinearRegression\n",
    "from sklearn import metrics\n",
    "import numpy as np\n",
    "from sklearn.ensemble import RandomForestRegressor\n",
    "from sklearn.svm import SVR\n",
    "import xgboost as xgb\n",
    "import seaborn as sns"
   ]
  },
  {
   "cell_type": "markdown",
   "metadata": {},
   "source": [
    "### Create Function to clean data and merge data"
   ]
  },
  {
   "cell_type": "code",
   "execution_count": 2,
   "metadata": {},
   "outputs": [],
   "source": [
    "def clean_data(data_frame,name):\n",
    "    data_frame['diff'] = ((data_frame.Close - data_frame.Open)/data_frame.Open*100) #create a new row with the price diff percentage\n",
    "    data_frame = data_frame.reset_index() # reset the dataframe\n",
    "    data_frame = data_frame[['Datetime','diff']] # trim the dataframe to 2 column\n",
    "    data_frame = data_frame.rename(columns={\"diff\": name}) # rename the diff column to name \n",
    "    return data_frame\n",
    "\n",
    "def merge(data_frame,data):\n",
    "    data_frame = pd.merge(data_frame,data,'outer','Datetime') # merge data to one dataframe naem df\n",
    "    return data_frame"
   ]
  },
  {
   "cell_type": "markdown",
   "metadata": {},
   "source": [
    "### Import data from yahoo finance "
   ]
  },
  {
   "cell_type": "code",
   "execution_count": 3,
   "metadata": {},
   "outputs": [
    {
     "name": "stdout",
     "output_type": "stream",
     "text": [
      "[*********************100%***********************]  1 of 1 completed\n",
      "[*********************100%***********************]  1 of 1 completed\n",
      "[*********************100%***********************]  1 of 1 completed\n",
      "[*********************100%***********************]  1 of 1 completed\n",
      "[*********************100%***********************]  1 of 1 completed\n",
      "[*********************100%***********************]  1 of 1 completed\n",
      "[*********************100%***********************]  1 of 1 completed\n",
      "[*********************100%***********************]  1 of 1 completed\n",
      "[*********************100%***********************]  1 of 1 completed\n",
      "[*********************100%***********************]  1 of 1 completed\n",
      "[*********************100%***********************]  1 of 1 completed\n",
      "[*********************100%***********************]  1 of 1 completed\n",
      "[*********************100%***********************]  1 of 1 completed\n",
      "[*********************100%***********************]  1 of 1 completed\n",
      "[*********************100%***********************]  1 of 1 completed\n",
      "[*********************100%***********************]  1 of 1 completed\n",
      "[*********************100%***********************]  1 of 1 completed\n",
      "[*********************100%***********************]  1 of 1 completed\n"
     ]
    }
   ],
   "source": [
    "df_btc = yf.download('BTC-USD',period=\"60d\", interval=\"5m\") # import duration of 60 days and interval of 5 mins \n",
    "df_eth = yf.download('ETH-USD',period=\"60d\", interval=\"5m\")\n",
    "df_ada = yf.download('ADA-USD',period=\"60d\", interval=\"5m\")\n",
    "df_bnb = yf.download('BNB-USD',period=\"60d\", interval=\"5m\")\n",
    "df_xrp = yf.download('XRP-USD',period=\"60d\", interval=\"5m\")\n",
    "df_ltc = yf.download('LTC-USD',period=\"60d\", interval=\"5m\")\n",
    "df_link = yf.download('LINK-USD',period=\"60d\", interval=\"5m\")\n",
    "df_xlm = yf.download('XLM-USD',period=\"60d\", interval=\"5m\")\n",
    "df_bch = yf.download('BCH-USD',period=\"60d\", interval=\"5m\")\n",
    "df_doge = yf.download('DOGE-USD',period=\"60d\", interval=\"5m\")\n",
    "df_xem = yf.download('XEM-USD',period=\"60d\", interval=\"5m\")\n",
    "df_xmr = yf.download('XMR-USD',period=\"60d\", interval=\"5m\")\n",
    "df_eos = yf.download('EOS-USD',period=\"60d\", interval=\"5m\")\n",
    "df_bsv = yf.download('BSV-USD',period=\"60d\", interval=\"5m\")\n",
    "df_trx = yf.download('TRX-USD',period=\"60d\", interval=\"5m\")\n",
    "df_miota = yf.download('MIOTA-USD',period=\"60d\", interval=\"5m\")\n",
    "df_theta = yf.download('THETA-USD',period=\"60d\", interval=\"5m\")\n",
    "df_vet = yf.download('VET-USD',period=\"60d\", interval=\"5m\")"
   ]
  },
  {
   "cell_type": "markdown",
   "metadata": {},
   "source": [
    "### Use clean_data function created to clean and trim data "
   ]
  },
  {
   "cell_type": "code",
   "execution_count": 4,
   "metadata": {},
   "outputs": [],
   "source": [
    "df_btc = clean_data(df_btc,'BTC')\n",
    "df_eth = clean_data(df_eth,'ETH')\n",
    "df_ada = clean_data(df_ada,'ADA')\n",
    "df_bnb = clean_data(df_bnb,'BNB')\n",
    "df_xrp = clean_data(df_xrp,'XRP')\n",
    "df_ltc = clean_data(df_ltc,'LTC')\n",
    "df_link = clean_data(df_link,'LINK')\n",
    "df_xlm = clean_data(df_xlm,'XLM')\n",
    "df_bch = clean_data(df_bch,'BCH')\n",
    "df_doge = clean_data(df_doge,'DOGE')\n",
    "df_xem = clean_data(df_xem,'XEM')\n",
    "df_xmr = clean_data(df_xmr,'XMR')\n",
    "df_eos = clean_data(df_eos,'EOS')\n",
    "df_bsv = clean_data(df_bsv,'BSV')\n",
    "df_trx = clean_data(df_trx,'TRX')\n",
    "df_miota = clean_data(df_miota,'MIOTA')\n",
    "df_theta = clean_data(df_theta,'THETA')\n",
    "df_vet = clean_data(df_vet,'VET')"
   ]
  },
  {
   "cell_type": "markdown",
   "metadata": {},
   "source": [
    "### Create a new column in btc_df to use the price diff percentage of one hour before as a feature for this learning. As the data have 5 min intervals we will shift 20 rows to get the price change percentage an hour before."
   ]
  },
  {
   "cell_type": "code",
   "execution_count": 5,
   "metadata": {},
   "outputs": [],
   "source": [
    "df_btc['BTC_an_Hour_Before'] = df_btc.BTC\n",
    "df_btc['BTC_an_Hour_Before'] = df_btc.BTC.shift(-20)"
   ]
  },
  {
   "cell_type": "markdown",
   "metadata": {},
   "source": [
    "### Merge all data to df dataframe using merge function created. "
   ]
  },
  {
   "cell_type": "code",
   "execution_count": 6,
   "metadata": {},
   "outputs": [],
   "source": [
    "df = merge(df_btc,df_eth)\n",
    "df = merge(df,df_ada)\n",
    "df = merge(df,df_bnb)\n",
    "df = merge(df,df_xrp)\n",
    "df = merge(df,df_ltc)\n",
    "df = merge(df,df_link)\n",
    "df = merge(df,df_xlm)\n",
    "df = merge(df,df_bch)\n",
    "df = merge(df,df_doge)\n",
    "df = merge(df,df_xem)\n",
    "df = merge(df,df_xmr)\n",
    "df = merge(df,df_eos)\n",
    "df = merge(df,df_bsv)\n",
    "df = merge(df,df_trx)\n",
    "df = merge(df,df_miota)\n",
    "df = merge(df,df_theta)\n",
    "df = merge(df,df_vet)"
   ]
  },
  {
   "cell_type": "markdown",
   "metadata": {},
   "source": [
    "# PART B: Analysis the data"
   ]
  },
  {
   "cell_type": "markdown",
   "metadata": {},
   "source": [
    "### Question 1 : What is the correlationships between the coins?\n",
    "Find the correationship between the tokens and features"
   ]
  },
  {
   "cell_type": "code",
   "execution_count": 95,
   "metadata": {},
   "outputs": [
    {
     "data": {
      "text/html": [
       "<style  type=\"text/css\" >\n",
       "#T_8a1e5858_a73f_11eb_a551_acde48001122row0_col0,#T_8a1e5858_a73f_11eb_a551_acde48001122row1_col1,#T_8a1e5858_a73f_11eb_a551_acde48001122row2_col2,#T_8a1e5858_a73f_11eb_a551_acde48001122row3_col3,#T_8a1e5858_a73f_11eb_a551_acde48001122row4_col4,#T_8a1e5858_a73f_11eb_a551_acde48001122row5_col5,#T_8a1e5858_a73f_11eb_a551_acde48001122row6_col6,#T_8a1e5858_a73f_11eb_a551_acde48001122row7_col7,#T_8a1e5858_a73f_11eb_a551_acde48001122row8_col8,#T_8a1e5858_a73f_11eb_a551_acde48001122row9_col9,#T_8a1e5858_a73f_11eb_a551_acde48001122row10_col10,#T_8a1e5858_a73f_11eb_a551_acde48001122row11_col11,#T_8a1e5858_a73f_11eb_a551_acde48001122row12_col12,#T_8a1e5858_a73f_11eb_a551_acde48001122row13_col13,#T_8a1e5858_a73f_11eb_a551_acde48001122row14_col14,#T_8a1e5858_a73f_11eb_a551_acde48001122row15_col15,#T_8a1e5858_a73f_11eb_a551_acde48001122row16_col16,#T_8a1e5858_a73f_11eb_a551_acde48001122row17_col17,#T_8a1e5858_a73f_11eb_a551_acde48001122row18_col18{\n",
       "            background-color:  #b40426;\n",
       "            color:  #f1f1f1;\n",
       "        }#T_8a1e5858_a73f_11eb_a551_acde48001122row0_col1,#T_8a1e5858_a73f_11eb_a551_acde48001122row4_col1,#T_8a1e5858_a73f_11eb_a551_acde48001122row7_col1,#T_8a1e5858_a73f_11eb_a551_acde48001122row15_col1{\n",
       "            background-color:  #3d50c3;\n",
       "            color:  #f1f1f1;\n",
       "        }#T_8a1e5858_a73f_11eb_a551_acde48001122row0_col2,#T_8a1e5858_a73f_11eb_a551_acde48001122row2_col0{\n",
       "            background-color:  #ec8165;\n",
       "            color:  #000000;\n",
       "        }#T_8a1e5858_a73f_11eb_a551_acde48001122row0_col3{\n",
       "            background-color:  #f3c8b2;\n",
       "            color:  #000000;\n",
       "        }#T_8a1e5858_a73f_11eb_a551_acde48001122row0_col4,#T_8a1e5858_a73f_11eb_a551_acde48001122row0_col9,#T_8a1e5858_a73f_11eb_a551_acde48001122row4_col0{\n",
       "            background-color:  #f7bca1;\n",
       "            color:  #000000;\n",
       "        }#T_8a1e5858_a73f_11eb_a551_acde48001122row0_col5,#T_8a1e5858_a73f_11eb_a551_acde48001122row5_col0{\n",
       "            background-color:  #ead5c9;\n",
       "            color:  #000000;\n",
       "        }#T_8a1e5858_a73f_11eb_a551_acde48001122row0_col6,#T_8a1e5858_a73f_11eb_a551_acde48001122row6_col0,#T_8a1e5858_a73f_11eb_a551_acde48001122row9_col6,#T_8a1e5858_a73f_11eb_a551_acde48001122row13_col9{\n",
       "            background-color:  #f5a081;\n",
       "            color:  #000000;\n",
       "        }#T_8a1e5858_a73f_11eb_a551_acde48001122row0_col7,#T_8a1e5858_a73f_11eb_a551_acde48001122row2_col9,#T_8a1e5858_a73f_11eb_a551_acde48001122row7_col0{\n",
       "            background-color:  #f7b497;\n",
       "            color:  #000000;\n",
       "        }#T_8a1e5858_a73f_11eb_a551_acde48001122row0_col8,#T_8a1e5858_a73f_11eb_a551_acde48001122row2_col5,#T_8a1e5858_a73f_11eb_a551_acde48001122row2_col18,#T_8a1e5858_a73f_11eb_a551_acde48001122row5_col2,#T_8a1e5858_a73f_11eb_a551_acde48001122row5_col13,#T_8a1e5858_a73f_11eb_a551_acde48001122row8_col9,#T_8a1e5858_a73f_11eb_a551_acde48001122row13_col5,#T_8a1e5858_a73f_11eb_a551_acde48001122row13_col15,#T_8a1e5858_a73f_11eb_a551_acde48001122row15_col9,#T_8a1e5858_a73f_11eb_a551_acde48001122row15_col13,#T_8a1e5858_a73f_11eb_a551_acde48001122row18_col2{\n",
       "            background-color:  #edd1c2;\n",
       "            color:  #000000;\n",
       "        }#T_8a1e5858_a73f_11eb_a551_acde48001122row0_col10,#T_8a1e5858_a73f_11eb_a551_acde48001122row10_col7{\n",
       "            background-color:  #b9d0f9;\n",
       "            color:  #000000;\n",
       "        }#T_8a1e5858_a73f_11eb_a551_acde48001122row0_col11,#T_8a1e5858_a73f_11eb_a551_acde48001122row4_col17,#T_8a1e5858_a73f_11eb_a551_acde48001122row16_col9,#T_8a1e5858_a73f_11eb_a551_acde48001122row16_col18,#T_8a1e5858_a73f_11eb_a551_acde48001122row17_col4{\n",
       "            background-color:  #d2dbe8;\n",
       "            color:  #000000;\n",
       "        }#T_8a1e5858_a73f_11eb_a551_acde48001122row0_col12,#T_8a1e5858_a73f_11eb_a551_acde48001122row2_col14,#T_8a1e5858_a73f_11eb_a551_acde48001122row7_col12,#T_8a1e5858_a73f_11eb_a551_acde48001122row8_col16{\n",
       "            background-color:  #ccd9ed;\n",
       "            color:  #000000;\n",
       "        }#T_8a1e5858_a73f_11eb_a551_acde48001122row0_col13,#T_8a1e5858_a73f_11eb_a551_acde48001122row13_col0{\n",
       "            background-color:  #f5c4ac;\n",
       "            color:  #000000;\n",
       "        }#T_8a1e5858_a73f_11eb_a551_acde48001122row0_col14,#T_8a1e5858_a73f_11eb_a551_acde48001122row8_col11,#T_8a1e5858_a73f_11eb_a551_acde48001122row8_col17,#T_8a1e5858_a73f_11eb_a551_acde48001122row11_col8,#T_8a1e5858_a73f_11eb_a551_acde48001122row16_col15{\n",
       "            background-color:  #c9d7f0;\n",
       "            color:  #000000;\n",
       "        }#T_8a1e5858_a73f_11eb_a551_acde48001122row0_col15,#T_8a1e5858_a73f_11eb_a551_acde48001122row5_col7,#T_8a1e5858_a73f_11eb_a551_acde48001122row6_col8,#T_8a1e5858_a73f_11eb_a551_acde48001122row7_col5,#T_8a1e5858_a73f_11eb_a551_acde48001122row8_col6,#T_8a1e5858_a73f_11eb_a551_acde48001122row9_col15,#T_8a1e5858_a73f_11eb_a551_acde48001122row13_col4,#T_8a1e5858_a73f_11eb_a551_acde48001122row15_col0{\n",
       "            background-color:  #edd2c3;\n",
       "            color:  #000000;\n",
       "        }#T_8a1e5858_a73f_11eb_a551_acde48001122row0_col16,#T_8a1e5858_a73f_11eb_a551_acde48001122row5_col3,#T_8a1e5858_a73f_11eb_a551_acde48001122row8_col18,#T_8a1e5858_a73f_11eb_a551_acde48001122row16_col4,#T_8a1e5858_a73f_11eb_a551_acde48001122row18_col8{\n",
       "            background-color:  #dcdddd;\n",
       "            color:  #000000;\n",
       "        }#T_8a1e5858_a73f_11eb_a551_acde48001122row0_col17,#T_8a1e5858_a73f_11eb_a551_acde48001122row2_col11,#T_8a1e5858_a73f_11eb_a551_acde48001122row17_col0{\n",
       "            background-color:  #d3dbe7;\n",
       "            color:  #000000;\n",
       "        }#T_8a1e5858_a73f_11eb_a551_acde48001122row0_col18,#T_8a1e5858_a73f_11eb_a551_acde48001122row3_col4,#T_8a1e5858_a73f_11eb_a551_acde48001122row3_col9,#T_8a1e5858_a73f_11eb_a551_acde48001122row6_col5,#T_8a1e5858_a73f_11eb_a551_acde48001122row13_col3,#T_8a1e5858_a73f_11eb_a551_acde48001122row18_col0,#T_8a1e5858_a73f_11eb_a551_acde48001122row18_col7{\n",
       "            background-color:  #ebd3c6;\n",
       "            color:  #000000;\n",
       "        }#T_8a1e5858_a73f_11eb_a551_acde48001122row1_col0,#T_8a1e5858_a73f_11eb_a551_acde48001122row1_col2,#T_8a1e5858_a73f_11eb_a551_acde48001122row1_col3,#T_8a1e5858_a73f_11eb_a551_acde48001122row1_col4,#T_8a1e5858_a73f_11eb_a551_acde48001122row1_col5,#T_8a1e5858_a73f_11eb_a551_acde48001122row1_col6,#T_8a1e5858_a73f_11eb_a551_acde48001122row1_col7,#T_8a1e5858_a73f_11eb_a551_acde48001122row1_col8,#T_8a1e5858_a73f_11eb_a551_acde48001122row1_col9,#T_8a1e5858_a73f_11eb_a551_acde48001122row1_col10,#T_8a1e5858_a73f_11eb_a551_acde48001122row1_col11,#T_8a1e5858_a73f_11eb_a551_acde48001122row1_col12,#T_8a1e5858_a73f_11eb_a551_acde48001122row1_col13,#T_8a1e5858_a73f_11eb_a551_acde48001122row1_col14,#T_8a1e5858_a73f_11eb_a551_acde48001122row1_col15,#T_8a1e5858_a73f_11eb_a551_acde48001122row1_col16,#T_8a1e5858_a73f_11eb_a551_acde48001122row1_col17,#T_8a1e5858_a73f_11eb_a551_acde48001122row1_col18,#T_8a1e5858_a73f_11eb_a551_acde48001122row9_col1{\n",
       "            background-color:  #3b4cc0;\n",
       "            color:  #f1f1f1;\n",
       "        }#T_8a1e5858_a73f_11eb_a551_acde48001122row2_col1,#T_8a1e5858_a73f_11eb_a551_acde48001122row5_col1,#T_8a1e5858_a73f_11eb_a551_acde48001122row12_col1,#T_8a1e5858_a73f_11eb_a551_acde48001122row13_col1,#T_8a1e5858_a73f_11eb_a551_acde48001122row17_col1,#T_8a1e5858_a73f_11eb_a551_acde48001122row18_col1{\n",
       "            background-color:  #3e51c5;\n",
       "            color:  #f1f1f1;\n",
       "        }#T_8a1e5858_a73f_11eb_a551_acde48001122row2_col3,#T_8a1e5858_a73f_11eb_a551_acde48001122row4_col6,#T_8a1e5858_a73f_11eb_a551_acde48001122row6_col4{\n",
       "            background-color:  #f4c5ad;\n",
       "            color:  #000000;\n",
       "        }#T_8a1e5858_a73f_11eb_a551_acde48001122row2_col4,#T_8a1e5858_a73f_11eb_a551_acde48001122row4_col2{\n",
       "            background-color:  #f7b79b;\n",
       "            color:  #000000;\n",
       "        }#T_8a1e5858_a73f_11eb_a551_acde48001122row2_col6,#T_8a1e5858_a73f_11eb_a551_acde48001122row6_col2{\n",
       "            background-color:  #f29274;\n",
       "            color:  #000000;\n",
       "        }#T_8a1e5858_a73f_11eb_a551_acde48001122row2_col7{\n",
       "            background-color:  #f4987a;\n",
       "            color:  #000000;\n",
       "        }#T_8a1e5858_a73f_11eb_a551_acde48001122row2_col8,#T_8a1e5858_a73f_11eb_a551_acde48001122row4_col9,#T_8a1e5858_a73f_11eb_a551_acde48001122row7_col15,#T_8a1e5858_a73f_11eb_a551_acde48001122row8_col2,#T_8a1e5858_a73f_11eb_a551_acde48001122row9_col14,#T_8a1e5858_a73f_11eb_a551_acde48001122row15_col6,#T_8a1e5858_a73f_11eb_a551_acde48001122row15_col7{\n",
       "            background-color:  #efcebd;\n",
       "            color:  #000000;\n",
       "        }#T_8a1e5858_a73f_11eb_a551_acde48001122row2_col10,#T_8a1e5858_a73f_11eb_a551_acde48001122row3_col12,#T_8a1e5858_a73f_11eb_a551_acde48001122row11_col15{\n",
       "            background-color:  #bcd2f7;\n",
       "            color:  #000000;\n",
       "        }#T_8a1e5858_a73f_11eb_a551_acde48001122row2_col12,#T_8a1e5858_a73f_11eb_a551_acde48001122row7_col11,#T_8a1e5858_a73f_11eb_a551_acde48001122row9_col16,#T_8a1e5858_a73f_11eb_a551_acde48001122row11_col4,#T_8a1e5858_a73f_11eb_a551_acde48001122row12_col0,#T_8a1e5858_a73f_11eb_a551_acde48001122row12_col2,#T_8a1e5858_a73f_11eb_a551_acde48001122row12_col7,#T_8a1e5858_a73f_11eb_a551_acde48001122row14_col2,#T_8a1e5858_a73f_11eb_a551_acde48001122row16_col13{\n",
       "            background-color:  #cdd9ec;\n",
       "            color:  #000000;\n",
       "        }#T_8a1e5858_a73f_11eb_a551_acde48001122row2_col13,#T_8a1e5858_a73f_11eb_a551_acde48001122row3_col7,#T_8a1e5858_a73f_11eb_a551_acde48001122row7_col3,#T_8a1e5858_a73f_11eb_a551_acde48001122row9_col0,#T_8a1e5858_a73f_11eb_a551_acde48001122row13_col2{\n",
       "            background-color:  #f6bda2;\n",
       "            color:  #000000;\n",
       "        }#T_8a1e5858_a73f_11eb_a551_acde48001122row2_col15,#T_8a1e5858_a73f_11eb_a551_acde48001122row15_col2{\n",
       "            background-color:  #f1ccb8;\n",
       "            color:  #000000;\n",
       "        }#T_8a1e5858_a73f_11eb_a551_acde48001122row2_col16,#T_8a1e5858_a73f_11eb_a551_acde48001122row3_col18,#T_8a1e5858_a73f_11eb_a551_acde48001122row16_col0{\n",
       "            background-color:  #dedcdb;\n",
       "            color:  #000000;\n",
       "        }#T_8a1e5858_a73f_11eb_a551_acde48001122row2_col17,#T_8a1e5858_a73f_11eb_a551_acde48001122row6_col16,#T_8a1e5858_a73f_11eb_a551_acde48001122row17_col2{\n",
       "            background-color:  #d5dbe5;\n",
       "            color:  #000000;\n",
       "        }#T_8a1e5858_a73f_11eb_a551_acde48001122row3_col0,#T_8a1e5858_a73f_11eb_a551_acde48001122row6_col3{\n",
       "            background-color:  #f2c9b4;\n",
       "            color:  #000000;\n",
       "        }#T_8a1e5858_a73f_11eb_a551_acde48001122row3_col1{\n",
       "            background-color:  #3c4ec2;\n",
       "            color:  #f1f1f1;\n",
       "        }#T_8a1e5858_a73f_11eb_a551_acde48001122row3_col2{\n",
       "            background-color:  #f4c6af;\n",
       "            color:  #000000;\n",
       "        }#T_8a1e5858_a73f_11eb_a551_acde48001122row3_col5,#T_8a1e5858_a73f_11eb_a551_acde48001122row7_col16,#T_8a1e5858_a73f_11eb_a551_acde48001122row15_col8{\n",
       "            background-color:  #dadce0;\n",
       "            color:  #000000;\n",
       "        }#T_8a1e5858_a73f_11eb_a551_acde48001122row3_col6,#T_8a1e5858_a73f_11eb_a551_acde48001122row7_col8{\n",
       "            background-color:  #f2cbb7;\n",
       "            color:  #000000;\n",
       "        }#T_8a1e5858_a73f_11eb_a551_acde48001122row3_col8{\n",
       "            background-color:  #e7d7ce;\n",
       "            color:  #000000;\n",
       "        }#T_8a1e5858_a73f_11eb_a551_acde48001122row3_col10,#T_8a1e5858_a73f_11eb_a551_acde48001122row18_col14{\n",
       "            background-color:  #aac7fd;\n",
       "            color:  #000000;\n",
       "        }#T_8a1e5858_a73f_11eb_a551_acde48001122row3_col11,#T_8a1e5858_a73f_11eb_a551_acde48001122row8_col14,#T_8a1e5858_a73f_11eb_a551_acde48001122row10_col2,#T_8a1e5858_a73f_11eb_a551_acde48001122row14_col15{\n",
       "            background-color:  #bed2f6;\n",
       "            color:  #000000;\n",
       "        }#T_8a1e5858_a73f_11eb_a551_acde48001122row3_col13,#T_8a1e5858_a73f_11eb_a551_acde48001122row5_col6,#T_8a1e5858_a73f_11eb_a551_acde48001122row5_col9,#T_8a1e5858_a73f_11eb_a551_acde48001122row7_col18,#T_8a1e5858_a73f_11eb_a551_acde48001122row9_col3{\n",
       "            background-color:  #ead4c8;\n",
       "            color:  #000000;\n",
       "        }#T_8a1e5858_a73f_11eb_a551_acde48001122row3_col14,#T_8a1e5858_a73f_11eb_a551_acde48001122row12_col18,#T_8a1e5858_a73f_11eb_a551_acde48001122row15_col12,#T_8a1e5858_a73f_11eb_a551_acde48001122row17_col11,#T_8a1e5858_a73f_11eb_a551_acde48001122row18_col12{\n",
       "            background-color:  #b2ccfb;\n",
       "            color:  #000000;\n",
       "        }#T_8a1e5858_a73f_11eb_a551_acde48001122row3_col15,#T_8a1e5858_a73f_11eb_a551_acde48001122row4_col15,#T_8a1e5858_a73f_11eb_a551_acde48001122row13_col14,#T_8a1e5858_a73f_11eb_a551_acde48001122row15_col3,#T_8a1e5858_a73f_11eb_a551_acde48001122row15_col4,#T_8a1e5858_a73f_11eb_a551_acde48001122row18_col9{\n",
       "            background-color:  #e2dad5;\n",
       "            color:  #000000;\n",
       "        }#T_8a1e5858_a73f_11eb_a551_acde48001122row3_col16,#T_8a1e5858_a73f_11eb_a551_acde48001122row6_col11,#T_8a1e5858_a73f_11eb_a551_acde48001122row6_col12,#T_8a1e5858_a73f_11eb_a551_acde48001122row6_col17,#T_8a1e5858_a73f_11eb_a551_acde48001122row11_col6,#T_8a1e5858_a73f_11eb_a551_acde48001122row11_col9,#T_8a1e5858_a73f_11eb_a551_acde48001122row12_col6,#T_8a1e5858_a73f_11eb_a551_acde48001122row12_col9,#T_8a1e5858_a73f_11eb_a551_acde48001122row14_col7,#T_8a1e5858_a73f_11eb_a551_acde48001122row17_col6{\n",
       "            background-color:  #cad8ef;\n",
       "            color:  #000000;\n",
       "        }#T_8a1e5858_a73f_11eb_a551_acde48001122row3_col17,#T_8a1e5858_a73f_11eb_a551_acde48001122row9_col11,#T_8a1e5858_a73f_11eb_a551_acde48001122row11_col13,#T_8a1e5858_a73f_11eb_a551_acde48001122row13_col11{\n",
       "            background-color:  #c6d6f1;\n",
       "            color:  #000000;\n",
       "        }#T_8a1e5858_a73f_11eb_a551_acde48001122row4_col3,#T_8a1e5858_a73f_11eb_a551_acde48001122row4_col13,#T_8a1e5858_a73f_11eb_a551_acde48001122row9_col8{\n",
       "            background-color:  #ecd3c5;\n",
       "            color:  #000000;\n",
       "        }#T_8a1e5858_a73f_11eb_a551_acde48001122row4_col5,#T_8a1e5858_a73f_11eb_a551_acde48001122row5_col4,#T_8a1e5858_a73f_11eb_a551_acde48001122row13_col18,#T_8a1e5858_a73f_11eb_a551_acde48001122row16_col7,#T_8a1e5858_a73f_11eb_a551_acde48001122row18_col13{\n",
       "            background-color:  #dddcdc;\n",
       "            color:  #000000;\n",
       "        }#T_8a1e5858_a73f_11eb_a551_acde48001122row4_col7,#T_8a1e5858_a73f_11eb_a551_acde48001122row7_col4,#T_8a1e5858_a73f_11eb_a551_acde48001122row7_col13,#T_8a1e5858_a73f_11eb_a551_acde48001122row13_col7{\n",
       "            background-color:  #f6bea4;\n",
       "            color:  #000000;\n",
       "        }#T_8a1e5858_a73f_11eb_a551_acde48001122row4_col8,#T_8a1e5858_a73f_11eb_a551_acde48001122row6_col18,#T_8a1e5858_a73f_11eb_a551_acde48001122row18_col4,#T_8a1e5858_a73f_11eb_a551_acde48001122row18_col6{\n",
       "            background-color:  #e5d8d1;\n",
       "            color:  #000000;\n",
       "        }#T_8a1e5858_a73f_11eb_a551_acde48001122row4_col10{\n",
       "            background-color:  #a6c4fe;\n",
       "            color:  #000000;\n",
       "        }#T_8a1e5858_a73f_11eb_a551_acde48001122row4_col11,#T_8a1e5858_a73f_11eb_a551_acde48001122row13_col16,#T_8a1e5858_a73f_11eb_a551_acde48001122row14_col0,#T_8a1e5858_a73f_11eb_a551_acde48001122row16_col17{\n",
       "            background-color:  #cbd8ee;\n",
       "            color:  #000000;\n",
       "        }#T_8a1e5858_a73f_11eb_a551_acde48001122row4_col12,#T_8a1e5858_a73f_11eb_a551_acde48001122row12_col3,#T_8a1e5858_a73f_11eb_a551_acde48001122row14_col8,#T_8a1e5858_a73f_11eb_a551_acde48001122row15_col17,#T_8a1e5858_a73f_11eb_a551_acde48001122row17_col15{\n",
       "            background-color:  #bfd3f6;\n",
       "            color:  #000000;\n",
       "        }#T_8a1e5858_a73f_11eb_a551_acde48001122row4_col14,#T_8a1e5858_a73f_11eb_a551_acde48001122row8_col12,#T_8a1e5858_a73f_11eb_a551_acde48001122row11_col16,#T_8a1e5858_a73f_11eb_a551_acde48001122row12_col8{\n",
       "            background-color:  #b5cdfa;\n",
       "            color:  #000000;\n",
       "        }#T_8a1e5858_a73f_11eb_a551_acde48001122row4_col16,#T_8a1e5858_a73f_11eb_a551_acde48001122row14_col6{\n",
       "            background-color:  #d9dce1;\n",
       "            color:  #000000;\n",
       "        }#T_8a1e5858_a73f_11eb_a551_acde48001122row4_col18{\n",
       "            background-color:  #e4d9d2;\n",
       "            color:  #000000;\n",
       "        }#T_8a1e5858_a73f_11eb_a551_acde48001122row5_col8,#T_8a1e5858_a73f_11eb_a551_acde48001122row8_col5{\n",
       "            background-color:  #f6a586;\n",
       "            color:  #000000;\n",
       "        }#T_8a1e5858_a73f_11eb_a551_acde48001122row5_col10,#T_8a1e5858_a73f_11eb_a551_acde48001122row10_col15,#T_8a1e5858_a73f_11eb_a551_acde48001122row12_col16,#T_8a1e5858_a73f_11eb_a551_acde48001122row12_col17,#T_8a1e5858_a73f_11eb_a551_acde48001122row17_col12{\n",
       "            background-color:  #a1c0ff;\n",
       "            color:  #000000;\n",
       "        }#T_8a1e5858_a73f_11eb_a551_acde48001122row5_col11,#T_8a1e5858_a73f_11eb_a551_acde48001122row13_col17,#T_8a1e5858_a73f_11eb_a551_acde48001122row16_col5{\n",
       "            background-color:  #c4d5f3;\n",
       "            color:  #000000;\n",
       "        }#T_8a1e5858_a73f_11eb_a551_acde48001122row5_col12,#T_8a1e5858_a73f_11eb_a551_acde48001122row5_col14,#T_8a1e5858_a73f_11eb_a551_acde48001122row9_col10,#T_8a1e5858_a73f_11eb_a551_acde48001122row11_col17,#T_8a1e5858_a73f_11eb_a551_acde48001122row12_col5,#T_8a1e5858_a73f_11eb_a551_acde48001122row12_col15{\n",
       "            background-color:  #b3cdfb;\n",
       "            color:  #000000;\n",
       "        }#T_8a1e5858_a73f_11eb_a551_acde48001122row5_col15,#T_8a1e5858_a73f_11eb_a551_acde48001122row6_col14,#T_8a1e5858_a73f_11eb_a551_acde48001122row15_col5,#T_8a1e5858_a73f_11eb_a551_acde48001122row15_col18,#T_8a1e5858_a73f_11eb_a551_acde48001122row17_col7,#T_8a1e5858_a73f_11eb_a551_acde48001122row18_col15{\n",
       "            background-color:  #d8dce2;\n",
       "            color:  #000000;\n",
       "        }#T_8a1e5858_a73f_11eb_a551_acde48001122row5_col16,#T_8a1e5858_a73f_11eb_a551_acde48001122row11_col3,#T_8a1e5858_a73f_11eb_a551_acde48001122row12_col4,#T_8a1e5858_a73f_11eb_a551_acde48001122row12_col13,#T_8a1e5858_a73f_11eb_a551_acde48001122row13_col12,#T_8a1e5858_a73f_11eb_a551_acde48001122row18_col11{\n",
       "            background-color:  #c0d4f5;\n",
       "            color:  #000000;\n",
       "        }#T_8a1e5858_a73f_11eb_a551_acde48001122row5_col17,#T_8a1e5858_a73f_11eb_a551_acde48001122row17_col5{\n",
       "            background-color:  #bad0f8;\n",
       "            color:  #000000;\n",
       "        }#T_8a1e5858_a73f_11eb_a551_acde48001122row5_col18,#T_8a1e5858_a73f_11eb_a551_acde48001122row7_col17,#T_8a1e5858_a73f_11eb_a551_acde48001122row16_col6,#T_8a1e5858_a73f_11eb_a551_acde48001122row18_col5{\n",
       "            background-color:  #d7dce3;\n",
       "            color:  #000000;\n",
       "        }#T_8a1e5858_a73f_11eb_a551_acde48001122row6_col1,#T_8a1e5858_a73f_11eb_a551_acde48001122row8_col1{\n",
       "            background-color:  #3f53c6;\n",
       "            color:  #f1f1f1;\n",
       "        }#T_8a1e5858_a73f_11eb_a551_acde48001122row6_col7,#T_8a1e5858_a73f_11eb_a551_acde48001122row7_col6{\n",
       "            background-color:  #f7a889;\n",
       "            color:  #000000;\n",
       "        }#T_8a1e5858_a73f_11eb_a551_acde48001122row6_col9{\n",
       "            background-color:  #f59f80;\n",
       "            color:  #000000;\n",
       "        }#T_8a1e5858_a73f_11eb_a551_acde48001122row6_col10,#T_8a1e5858_a73f_11eb_a551_acde48001122row7_col10,#T_8a1e5858_a73f_11eb_a551_acde48001122row14_col3,#T_8a1e5858_a73f_11eb_a551_acde48001122row14_col4,#T_8a1e5858_a73f_11eb_a551_acde48001122row14_col5{\n",
       "            background-color:  #b6cefa;\n",
       "            color:  #000000;\n",
       "        }#T_8a1e5858_a73f_11eb_a551_acde48001122row6_col13,#T_8a1e5858_a73f_11eb_a551_acde48001122row9_col2,#T_8a1e5858_a73f_11eb_a551_acde48001122row13_col6{\n",
       "            background-color:  #f7b599;\n",
       "            color:  #000000;\n",
       "        }#T_8a1e5858_a73f_11eb_a551_acde48001122row6_col15{\n",
       "            background-color:  #f0cdbb;\n",
       "            color:  #000000;\n",
       "        }#T_8a1e5858_a73f_11eb_a551_acde48001122row7_col2{\n",
       "            background-color:  #f49a7b;\n",
       "            color:  #000000;\n",
       "        }#T_8a1e5858_a73f_11eb_a551_acde48001122row7_col9{\n",
       "            background-color:  #f7b89c;\n",
       "            color:  #000000;\n",
       "        }#T_8a1e5858_a73f_11eb_a551_acde48001122row7_col14,#T_8a1e5858_a73f_11eb_a551_acde48001122row9_col12,#T_8a1e5858_a73f_11eb_a551_acde48001122row17_col3,#T_8a1e5858_a73f_11eb_a551_acde48001122row17_col8,#T_8a1e5858_a73f_11eb_a551_acde48001122row17_col16{\n",
       "            background-color:  #c7d7f0;\n",
       "            color:  #000000;\n",
       "        }#T_8a1e5858_a73f_11eb_a551_acde48001122row8_col0{\n",
       "            background-color:  #eed0c0;\n",
       "            color:  #000000;\n",
       "        }#T_8a1e5858_a73f_11eb_a551_acde48001122row8_col3,#T_8a1e5858_a73f_11eb_a551_acde48001122row9_col5{\n",
       "            background-color:  #e9d5cb;\n",
       "            color:  #000000;\n",
       "        }#T_8a1e5858_a73f_11eb_a551_acde48001122row8_col4{\n",
       "            background-color:  #e6d7cf;\n",
       "            color:  #000000;\n",
       "        }#T_8a1e5858_a73f_11eb_a551_acde48001122row8_col7{\n",
       "            background-color:  #f2cab5;\n",
       "            color:  #000000;\n",
       "        }#T_8a1e5858_a73f_11eb_a551_acde48001122row8_col10{\n",
       "            background-color:  #a2c1ff;\n",
       "            color:  #000000;\n",
       "        }#T_8a1e5858_a73f_11eb_a551_acde48001122row8_col13,#T_8a1e5858_a73f_11eb_a551_acde48001122row9_col4,#T_8a1e5858_a73f_11eb_a551_acde48001122row13_col8{\n",
       "            background-color:  #efcfbf;\n",
       "            color:  #000000;\n",
       "        }#T_8a1e5858_a73f_11eb_a551_acde48001122row8_col15{\n",
       "            background-color:  #dbdcde;\n",
       "            color:  #000000;\n",
       "        }#T_8a1e5858_a73f_11eb_a551_acde48001122row9_col7{\n",
       "            background-color:  #f7b99e;\n",
       "            color:  #000000;\n",
       "        }#T_8a1e5858_a73f_11eb_a551_acde48001122row9_col13{\n",
       "            background-color:  #f6a283;\n",
       "            color:  #000000;\n",
       "        }#T_8a1e5858_a73f_11eb_a551_acde48001122row9_col17,#T_8a1e5858_a73f_11eb_a551_acde48001122row17_col13{\n",
       "            background-color:  #c3d5f4;\n",
       "            color:  #000000;\n",
       "        }#T_8a1e5858_a73f_11eb_a551_acde48001122row9_col18,#T_8a1e5858_a73f_11eb_a551_acde48001122row16_col2,#T_8a1e5858_a73f_11eb_a551_acde48001122row18_col3{\n",
       "            background-color:  #e0dbd8;\n",
       "            color:  #000000;\n",
       "        }#T_8a1e5858_a73f_11eb_a551_acde48001122row10_col0,#T_8a1e5858_a73f_11eb_a551_acde48001122row15_col11,#T_8a1e5858_a73f_11eb_a551_acde48001122row15_col14{\n",
       "            background-color:  #bbd1f8;\n",
       "            color:  #000000;\n",
       "        }#T_8a1e5858_a73f_11eb_a551_acde48001122row10_col1,#T_8a1e5858_a73f_11eb_a551_acde48001122row11_col1,#T_8a1e5858_a73f_11eb_a551_acde48001122row14_col1{\n",
       "            background-color:  #4055c8;\n",
       "            color:  #f1f1f1;\n",
       "        }#T_8a1e5858_a73f_11eb_a551_acde48001122row10_col3,#T_8a1e5858_a73f_11eb_a551_acde48001122row18_col10{\n",
       "            background-color:  #aec9fc;\n",
       "            color:  #000000;\n",
       "        }#T_8a1e5858_a73f_11eb_a551_acde48001122row10_col4{\n",
       "            background-color:  #a9c6fd;\n",
       "            color:  #000000;\n",
       "        }#T_8a1e5858_a73f_11eb_a551_acde48001122row10_col5,#T_8a1e5858_a73f_11eb_a551_acde48001122row10_col8{\n",
       "            background-color:  #a3c2fe;\n",
       "            color:  #000000;\n",
       "        }#T_8a1e5858_a73f_11eb_a551_acde48001122row10_col6,#T_8a1e5858_a73f_11eb_a551_acde48001122row10_col9,#T_8a1e5858_a73f_11eb_a551_acde48001122row16_col11{\n",
       "            background-color:  #b7cff9;\n",
       "            color:  #000000;\n",
       "        }#T_8a1e5858_a73f_11eb_a551_acde48001122row10_col11{\n",
       "            background-color:  #90b2fe;\n",
       "            color:  #000000;\n",
       "        }#T_8a1e5858_a73f_11eb_a551_acde48001122row10_col12,#T_8a1e5858_a73f_11eb_a551_acde48001122row10_col14,#T_8a1e5858_a73f_11eb_a551_acde48001122row14_col10{\n",
       "            background-color:  #8caffe;\n",
       "            color:  #000000;\n",
       "        }#T_8a1e5858_a73f_11eb_a551_acde48001122row10_col13,#T_8a1e5858_a73f_11eb_a551_acde48001122row10_col18{\n",
       "            background-color:  #afcafc;\n",
       "            color:  #000000;\n",
       "        }#T_8a1e5858_a73f_11eb_a551_acde48001122row10_col16{\n",
       "            background-color:  #93b5fe;\n",
       "            color:  #000000;\n",
       "        }#T_8a1e5858_a73f_11eb_a551_acde48001122row10_col17,#T_8a1e5858_a73f_11eb_a551_acde48001122row12_col14{\n",
       "            background-color:  #98b9ff;\n",
       "            color:  #000000;\n",
       "        }#T_8a1e5858_a73f_11eb_a551_acde48001122row11_col0,#T_8a1e5858_a73f_11eb_a551_acde48001122row11_col2{\n",
       "            background-color:  #d4dbe6;\n",
       "            color:  #000000;\n",
       "        }#T_8a1e5858_a73f_11eb_a551_acde48001122row11_col5,#T_8a1e5858_a73f_11eb_a551_acde48001122row15_col16,#T_8a1e5858_a73f_11eb_a551_acde48001122row17_col9{\n",
       "            background-color:  #c5d6f2;\n",
       "            color:  #000000;\n",
       "        }#T_8a1e5858_a73f_11eb_a551_acde48001122row11_col7,#T_8a1e5858_a73f_11eb_a551_acde48001122row16_col3,#T_8a1e5858_a73f_11eb_a551_acde48001122row16_col8{\n",
       "            background-color:  #cedaeb;\n",
       "            color:  #000000;\n",
       "        }#T_8a1e5858_a73f_11eb_a551_acde48001122row11_col10{\n",
       "            background-color:  #8fb1fe;\n",
       "            color:  #000000;\n",
       "        }#T_8a1e5858_a73f_11eb_a551_acde48001122row11_col12,#T_8a1e5858_a73f_11eb_a551_acde48001122row14_col11,#T_8a1e5858_a73f_11eb_a551_acde48001122row14_col17{\n",
       "            background-color:  #9dbdff;\n",
       "            color:  #000000;\n",
       "        }#T_8a1e5858_a73f_11eb_a551_acde48001122row11_col14,#T_8a1e5858_a73f_11eb_a551_acde48001122row12_col11,#T_8a1e5858_a73f_11eb_a551_acde48001122row14_col16{\n",
       "            background-color:  #9bbcff;\n",
       "            color:  #000000;\n",
       "        }#T_8a1e5858_a73f_11eb_a551_acde48001122row11_col18{\n",
       "            background-color:  #c1d4f4;\n",
       "            color:  #000000;\n",
       "        }#T_8a1e5858_a73f_11eb_a551_acde48001122row12_col10{\n",
       "            background-color:  #8badfd;\n",
       "            color:  #000000;\n",
       "        }#T_8a1e5858_a73f_11eb_a551_acde48001122row13_col10,#T_8a1e5858_a73f_11eb_a551_acde48001122row14_col18{\n",
       "            background-color:  #adc9fd;\n",
       "            color:  #000000;\n",
       "        }#T_8a1e5858_a73f_11eb_a551_acde48001122row14_col9{\n",
       "            background-color:  #f1cdba;\n",
       "            color:  #000000;\n",
       "        }#T_8a1e5858_a73f_11eb_a551_acde48001122row14_col12,#T_8a1e5858_a73f_11eb_a551_acde48001122row17_col14{\n",
       "            background-color:  #9abbff;\n",
       "            color:  #000000;\n",
       "        }#T_8a1e5858_a73f_11eb_a551_acde48001122row14_col13{\n",
       "            background-color:  #e3d9d3;\n",
       "            color:  #000000;\n",
       "        }#T_8a1e5858_a73f_11eb_a551_acde48001122row15_col10,#T_8a1e5858_a73f_11eb_a551_acde48001122row16_col14{\n",
       "            background-color:  #9ebeff;\n",
       "            color:  #000000;\n",
       "        }#T_8a1e5858_a73f_11eb_a551_acde48001122row16_col1{\n",
       "            background-color:  #445acc;\n",
       "            color:  #f1f1f1;\n",
       "        }#T_8a1e5858_a73f_11eb_a551_acde48001122row16_col10{\n",
       "            background-color:  #96b7ff;\n",
       "            color:  #000000;\n",
       "        }#T_8a1e5858_a73f_11eb_a551_acde48001122row16_col12{\n",
       "            background-color:  #a5c3fe;\n",
       "            color:  #000000;\n",
       "        }#T_8a1e5858_a73f_11eb_a551_acde48001122row17_col10{\n",
       "            background-color:  #97b8ff;\n",
       "            color:  #000000;\n",
       "        }#T_8a1e5858_a73f_11eb_a551_acde48001122row17_col18,#T_8a1e5858_a73f_11eb_a551_acde48001122row18_col16{\n",
       "            background-color:  #cfdaea;\n",
       "            color:  #000000;\n",
       "        }#T_8a1e5858_a73f_11eb_a551_acde48001122row18_col17{\n",
       "            background-color:  #d1dae9;\n",
       "            color:  #000000;\n",
       "        }</style><table id=\"T_8a1e5858_a73f_11eb_a551_acde48001122\" ><thead>    <tr>        <th class=\"blank level0\" ></th>        <th class=\"col_heading level0 col0\" >BTC</th>        <th class=\"col_heading level0 col1\" >BTC_an_Hour_Before</th>        <th class=\"col_heading level0 col2\" >ETH</th>        <th class=\"col_heading level0 col3\" >ADA</th>        <th class=\"col_heading level0 col4\" >BNB</th>        <th class=\"col_heading level0 col5\" >XRP</th>        <th class=\"col_heading level0 col6\" >LTC</th>        <th class=\"col_heading level0 col7\" >LINK</th>        <th class=\"col_heading level0 col8\" >XLM</th>        <th class=\"col_heading level0 col9\" >BCH</th>        <th class=\"col_heading level0 col10\" >DOGE</th>        <th class=\"col_heading level0 col11\" >XEM</th>        <th class=\"col_heading level0 col12\" >XMR</th>        <th class=\"col_heading level0 col13\" >EOS</th>        <th class=\"col_heading level0 col14\" >BSV</th>        <th class=\"col_heading level0 col15\" >TRX</th>        <th class=\"col_heading level0 col16\" >MIOTA</th>        <th class=\"col_heading level0 col17\" >THETA</th>        <th class=\"col_heading level0 col18\" >VET</th>    </tr></thead><tbody>\n",
       "                <tr>\n",
       "                        <th id=\"T_8a1e5858_a73f_11eb_a551_acde48001122level0_row0\" class=\"row_heading level0 row0\" >BTC</th>\n",
       "                        <td id=\"T_8a1e5858_a73f_11eb_a551_acde48001122row0_col0\" class=\"data row0 col0\" >1.00</td>\n",
       "                        <td id=\"T_8a1e5858_a73f_11eb_a551_acde48001122row0_col1\" class=\"data row0 col1\" >-0.02</td>\n",
       "                        <td id=\"T_8a1e5858_a73f_11eb_a551_acde48001122row0_col2\" class=\"data row0 col2\" >0.80</td>\n",
       "                        <td id=\"T_8a1e5858_a73f_11eb_a551_acde48001122row0_col3\" class=\"data row0 col3\" >0.60</td>\n",
       "                        <td id=\"T_8a1e5858_a73f_11eb_a551_acde48001122row0_col4\" class=\"data row0 col4\" >0.65</td>\n",
       "                        <td id=\"T_8a1e5858_a73f_11eb_a551_acde48001122row0_col5\" class=\"data row0 col5\" >0.54</td>\n",
       "                        <td id=\"T_8a1e5858_a73f_11eb_a551_acde48001122row0_col6\" class=\"data row0 col6\" >0.73</td>\n",
       "                        <td id=\"T_8a1e5858_a73f_11eb_a551_acde48001122row0_col7\" class=\"data row0 col7\" >0.67</td>\n",
       "                        <td id=\"T_8a1e5858_a73f_11eb_a551_acde48001122row0_col8\" class=\"data row0 col8\" >0.57</td>\n",
       "                        <td id=\"T_8a1e5858_a73f_11eb_a551_acde48001122row0_col9\" class=\"data row0 col9\" >0.64</td>\n",
       "                        <td id=\"T_8a1e5858_a73f_11eb_a551_acde48001122row0_col10\" class=\"data row0 col10\" >0.37</td>\n",
       "                        <td id=\"T_8a1e5858_a73f_11eb_a551_acde48001122row0_col11\" class=\"data row0 col11\" >0.46</td>\n",
       "                        <td id=\"T_8a1e5858_a73f_11eb_a551_acde48001122row0_col12\" class=\"data row0 col12\" >0.43</td>\n",
       "                        <td id=\"T_8a1e5858_a73f_11eb_a551_acde48001122row0_col13\" class=\"data row0 col13\" >0.62</td>\n",
       "                        <td id=\"T_8a1e5858_a73f_11eb_a551_acde48001122row0_col14\" class=\"data row0 col14\" >0.42</td>\n",
       "                        <td id=\"T_8a1e5858_a73f_11eb_a551_acde48001122row0_col15\" class=\"data row0 col15\" >0.56</td>\n",
       "                        <td id=\"T_8a1e5858_a73f_11eb_a551_acde48001122row0_col16\" class=\"data row0 col16\" >0.50</td>\n",
       "                        <td id=\"T_8a1e5858_a73f_11eb_a551_acde48001122row0_col17\" class=\"data row0 col17\" >0.45</td>\n",
       "                        <td id=\"T_8a1e5858_a73f_11eb_a551_acde48001122row0_col18\" class=\"data row0 col18\" >0.55</td>\n",
       "            </tr>\n",
       "            <tr>\n",
       "                        <th id=\"T_8a1e5858_a73f_11eb_a551_acde48001122level0_row1\" class=\"row_heading level0 row1\" >BTC_an_Hour_Before</th>\n",
       "                        <td id=\"T_8a1e5858_a73f_11eb_a551_acde48001122row1_col0\" class=\"data row1 col0\" >-0.02</td>\n",
       "                        <td id=\"T_8a1e5858_a73f_11eb_a551_acde48001122row1_col1\" class=\"data row1 col1\" >1.00</td>\n",
       "                        <td id=\"T_8a1e5858_a73f_11eb_a551_acde48001122row1_col2\" class=\"data row1 col2\" >-0.01</td>\n",
       "                        <td id=\"T_8a1e5858_a73f_11eb_a551_acde48001122row1_col3\" class=\"data row1 col3\" >-0.02</td>\n",
       "                        <td id=\"T_8a1e5858_a73f_11eb_a551_acde48001122row1_col4\" class=\"data row1 col4\" >-0.02</td>\n",
       "                        <td id=\"T_8a1e5858_a73f_11eb_a551_acde48001122row1_col5\" class=\"data row1 col5\" >-0.01</td>\n",
       "                        <td id=\"T_8a1e5858_a73f_11eb_a551_acde48001122row1_col6\" class=\"data row1 col6\" >-0.01</td>\n",
       "                        <td id=\"T_8a1e5858_a73f_11eb_a551_acde48001122row1_col7\" class=\"data row1 col7\" >-0.02</td>\n",
       "                        <td id=\"T_8a1e5858_a73f_11eb_a551_acde48001122row1_col8\" class=\"data row1 col8\" >-0.01</td>\n",
       "                        <td id=\"T_8a1e5858_a73f_11eb_a551_acde48001122row1_col9\" class=\"data row1 col9\" >-0.03</td>\n",
       "                        <td id=\"T_8a1e5858_a73f_11eb_a551_acde48001122row1_col10\" class=\"data row1 col10\" >-0.01</td>\n",
       "                        <td id=\"T_8a1e5858_a73f_11eb_a551_acde48001122row1_col11\" class=\"data row1 col11\" >-0.01</td>\n",
       "                        <td id=\"T_8a1e5858_a73f_11eb_a551_acde48001122row1_col12\" class=\"data row1 col12\" >-0.01</td>\n",
       "                        <td id=\"T_8a1e5858_a73f_11eb_a551_acde48001122row1_col13\" class=\"data row1 col13\" >-0.01</td>\n",
       "                        <td id=\"T_8a1e5858_a73f_11eb_a551_acde48001122row1_col14\" class=\"data row1 col14\" >-0.01</td>\n",
       "                        <td id=\"T_8a1e5858_a73f_11eb_a551_acde48001122row1_col15\" class=\"data row1 col15\" >-0.02</td>\n",
       "                        <td id=\"T_8a1e5858_a73f_11eb_a551_acde48001122row1_col16\" class=\"data row1 col16\" >0.00</td>\n",
       "                        <td id=\"T_8a1e5858_a73f_11eb_a551_acde48001122row1_col17\" class=\"data row1 col17\" >-0.02</td>\n",
       "                        <td id=\"T_8a1e5858_a73f_11eb_a551_acde48001122row1_col18\" class=\"data row1 col18\" >-0.01</td>\n",
       "            </tr>\n",
       "            <tr>\n",
       "                        <th id=\"T_8a1e5858_a73f_11eb_a551_acde48001122level0_row2\" class=\"row_heading level0 row2\" >ETH</th>\n",
       "                        <td id=\"T_8a1e5858_a73f_11eb_a551_acde48001122row2_col0\" class=\"data row2 col0\" >0.80</td>\n",
       "                        <td id=\"T_8a1e5858_a73f_11eb_a551_acde48001122row2_col1\" class=\"data row2 col1\" >-0.01</td>\n",
       "                        <td id=\"T_8a1e5858_a73f_11eb_a551_acde48001122row2_col2\" class=\"data row2 col2\" >1.00</td>\n",
       "                        <td id=\"T_8a1e5858_a73f_11eb_a551_acde48001122row2_col3\" class=\"data row2 col3\" >0.61</td>\n",
       "                        <td id=\"T_8a1e5858_a73f_11eb_a551_acde48001122row2_col4\" class=\"data row2 col4\" >0.67</td>\n",
       "                        <td id=\"T_8a1e5858_a73f_11eb_a551_acde48001122row2_col5\" class=\"data row2 col5\" >0.57</td>\n",
       "                        <td id=\"T_8a1e5858_a73f_11eb_a551_acde48001122row2_col6\" class=\"data row2 col6\" >0.76</td>\n",
       "                        <td id=\"T_8a1e5858_a73f_11eb_a551_acde48001122row2_col7\" class=\"data row2 col7\" >0.75</td>\n",
       "                        <td id=\"T_8a1e5858_a73f_11eb_a551_acde48001122row2_col8\" class=\"data row2 col8\" >0.58</td>\n",
       "                        <td id=\"T_8a1e5858_a73f_11eb_a551_acde48001122row2_col9\" class=\"data row2 col9\" >0.67</td>\n",
       "                        <td id=\"T_8a1e5858_a73f_11eb_a551_acde48001122row2_col10\" class=\"data row2 col10\" >0.38</td>\n",
       "                        <td id=\"T_8a1e5858_a73f_11eb_a551_acde48001122row2_col11\" class=\"data row2 col11\" >0.46</td>\n",
       "                        <td id=\"T_8a1e5858_a73f_11eb_a551_acde48001122row2_col12\" class=\"data row2 col12\" >0.44</td>\n",
       "                        <td id=\"T_8a1e5858_a73f_11eb_a551_acde48001122row2_col13\" class=\"data row2 col13\" >0.65</td>\n",
       "                        <td id=\"T_8a1e5858_a73f_11eb_a551_acde48001122row2_col14\" class=\"data row2 col14\" >0.43</td>\n",
       "                        <td id=\"T_8a1e5858_a73f_11eb_a551_acde48001122row2_col15\" class=\"data row2 col15\" >0.59</td>\n",
       "                        <td id=\"T_8a1e5858_a73f_11eb_a551_acde48001122row2_col16\" class=\"data row2 col16\" >0.51</td>\n",
       "                        <td id=\"T_8a1e5858_a73f_11eb_a551_acde48001122row2_col17\" class=\"data row2 col17\" >0.46</td>\n",
       "                        <td id=\"T_8a1e5858_a73f_11eb_a551_acde48001122row2_col18\" class=\"data row2 col18\" >0.57</td>\n",
       "            </tr>\n",
       "            <tr>\n",
       "                        <th id=\"T_8a1e5858_a73f_11eb_a551_acde48001122level0_row3\" class=\"row_heading level0 row3\" >ADA</th>\n",
       "                        <td id=\"T_8a1e5858_a73f_11eb_a551_acde48001122row3_col0\" class=\"data row3 col0\" >0.60</td>\n",
       "                        <td id=\"T_8a1e5858_a73f_11eb_a551_acde48001122row3_col1\" class=\"data row3 col1\" >-0.02</td>\n",
       "                        <td id=\"T_8a1e5858_a73f_11eb_a551_acde48001122row3_col2\" class=\"data row3 col2\" >0.61</td>\n",
       "                        <td id=\"T_8a1e5858_a73f_11eb_a551_acde48001122row3_col3\" class=\"data row3 col3\" >1.00</td>\n",
       "                        <td id=\"T_8a1e5858_a73f_11eb_a551_acde48001122row3_col4\" class=\"data row3 col4\" >0.55</td>\n",
       "                        <td id=\"T_8a1e5858_a73f_11eb_a551_acde48001122row3_col5\" class=\"data row3 col5\" >0.48</td>\n",
       "                        <td id=\"T_8a1e5858_a73f_11eb_a551_acde48001122row3_col6\" class=\"data row3 col6\" >0.60</td>\n",
       "                        <td id=\"T_8a1e5858_a73f_11eb_a551_acde48001122row3_col7\" class=\"data row3 col7\" >0.64</td>\n",
       "                        <td id=\"T_8a1e5858_a73f_11eb_a551_acde48001122row3_col8\" class=\"data row3 col8\" >0.54</td>\n",
       "                        <td id=\"T_8a1e5858_a73f_11eb_a551_acde48001122row3_col9\" class=\"data row3 col9\" >0.55</td>\n",
       "                        <td id=\"T_8a1e5858_a73f_11eb_a551_acde48001122row3_col10\" class=\"data row3 col10\" >0.33</td>\n",
       "                        <td id=\"T_8a1e5858_a73f_11eb_a551_acde48001122row3_col11\" class=\"data row3 col11\" >0.39</td>\n",
       "                        <td id=\"T_8a1e5858_a73f_11eb_a551_acde48001122row3_col12\" class=\"data row3 col12\" >0.38</td>\n",
       "                        <td id=\"T_8a1e5858_a73f_11eb_a551_acde48001122row3_col13\" class=\"data row3 col13\" >0.55</td>\n",
       "                        <td id=\"T_8a1e5858_a73f_11eb_a551_acde48001122row3_col14\" class=\"data row3 col14\" >0.35</td>\n",
       "                        <td id=\"T_8a1e5858_a73f_11eb_a551_acde48001122row3_col15\" class=\"data row3 col15\" >0.51</td>\n",
       "                        <td id=\"T_8a1e5858_a73f_11eb_a551_acde48001122row3_col16\" class=\"data row3 col16\" >0.44</td>\n",
       "                        <td id=\"T_8a1e5858_a73f_11eb_a551_acde48001122row3_col17\" class=\"data row3 col17\" >0.41</td>\n",
       "                        <td id=\"T_8a1e5858_a73f_11eb_a551_acde48001122row3_col18\" class=\"data row3 col18\" >0.50</td>\n",
       "            </tr>\n",
       "            <tr>\n",
       "                        <th id=\"T_8a1e5858_a73f_11eb_a551_acde48001122level0_row4\" class=\"row_heading level0 row4\" >BNB</th>\n",
       "                        <td id=\"T_8a1e5858_a73f_11eb_a551_acde48001122row4_col0\" class=\"data row4 col0\" >0.65</td>\n",
       "                        <td id=\"T_8a1e5858_a73f_11eb_a551_acde48001122row4_col1\" class=\"data row4 col1\" >-0.02</td>\n",
       "                        <td id=\"T_8a1e5858_a73f_11eb_a551_acde48001122row4_col2\" class=\"data row4 col2\" >0.67</td>\n",
       "                        <td id=\"T_8a1e5858_a73f_11eb_a551_acde48001122row4_col3\" class=\"data row4 col3\" >0.55</td>\n",
       "                        <td id=\"T_8a1e5858_a73f_11eb_a551_acde48001122row4_col4\" class=\"data row4 col4\" >1.00</td>\n",
       "                        <td id=\"T_8a1e5858_a73f_11eb_a551_acde48001122row4_col5\" class=\"data row4 col5\" >0.49</td>\n",
       "                        <td id=\"T_8a1e5858_a73f_11eb_a551_acde48001122row4_col6\" class=\"data row4 col6\" >0.62</td>\n",
       "                        <td id=\"T_8a1e5858_a73f_11eb_a551_acde48001122row4_col7\" class=\"data row4 col7\" >0.64</td>\n",
       "                        <td id=\"T_8a1e5858_a73f_11eb_a551_acde48001122row4_col8\" class=\"data row4 col8\" >0.53</td>\n",
       "                        <td id=\"T_8a1e5858_a73f_11eb_a551_acde48001122row4_col9\" class=\"data row4 col9\" >0.57</td>\n",
       "                        <td id=\"T_8a1e5858_a73f_11eb_a551_acde48001122row4_col10\" class=\"data row4 col10\" >0.32</td>\n",
       "                        <td id=\"T_8a1e5858_a73f_11eb_a551_acde48001122row4_col11\" class=\"data row4 col11\" >0.43</td>\n",
       "                        <td id=\"T_8a1e5858_a73f_11eb_a551_acde48001122row4_col12\" class=\"data row4 col12\" >0.39</td>\n",
       "                        <td id=\"T_8a1e5858_a73f_11eb_a551_acde48001122row4_col13\" class=\"data row4 col13\" >0.56</td>\n",
       "                        <td id=\"T_8a1e5858_a73f_11eb_a551_acde48001122row4_col14\" class=\"data row4 col14\" >0.36</td>\n",
       "                        <td id=\"T_8a1e5858_a73f_11eb_a551_acde48001122row4_col15\" class=\"data row4 col15\" >0.51</td>\n",
       "                        <td id=\"T_8a1e5858_a73f_11eb_a551_acde48001122row4_col16\" class=\"data row4 col16\" >0.49</td>\n",
       "                        <td id=\"T_8a1e5858_a73f_11eb_a551_acde48001122row4_col17\" class=\"data row4 col17\" >0.45</td>\n",
       "                        <td id=\"T_8a1e5858_a73f_11eb_a551_acde48001122row4_col18\" class=\"data row4 col18\" >0.52</td>\n",
       "            </tr>\n",
       "            <tr>\n",
       "                        <th id=\"T_8a1e5858_a73f_11eb_a551_acde48001122level0_row5\" class=\"row_heading level0 row5\" >XRP</th>\n",
       "                        <td id=\"T_8a1e5858_a73f_11eb_a551_acde48001122row5_col0\" class=\"data row5 col0\" >0.54</td>\n",
       "                        <td id=\"T_8a1e5858_a73f_11eb_a551_acde48001122row5_col1\" class=\"data row5 col1\" >-0.01</td>\n",
       "                        <td id=\"T_8a1e5858_a73f_11eb_a551_acde48001122row5_col2\" class=\"data row5 col2\" >0.57</td>\n",
       "                        <td id=\"T_8a1e5858_a73f_11eb_a551_acde48001122row5_col3\" class=\"data row5 col3\" >0.48</td>\n",
       "                        <td id=\"T_8a1e5858_a73f_11eb_a551_acde48001122row5_col4\" class=\"data row5 col4\" >0.49</td>\n",
       "                        <td id=\"T_8a1e5858_a73f_11eb_a551_acde48001122row5_col5\" class=\"data row5 col5\" >1.00</td>\n",
       "                        <td id=\"T_8a1e5858_a73f_11eb_a551_acde48001122row5_col6\" class=\"data row5 col6\" >0.55</td>\n",
       "                        <td id=\"T_8a1e5858_a73f_11eb_a551_acde48001122row5_col7\" class=\"data row5 col7\" >0.56</td>\n",
       "                        <td id=\"T_8a1e5858_a73f_11eb_a551_acde48001122row5_col8\" class=\"data row5 col8\" >0.72</td>\n",
       "                        <td id=\"T_8a1e5858_a73f_11eb_a551_acde48001122row5_col9\" class=\"data row5 col9\" >0.54</td>\n",
       "                        <td id=\"T_8a1e5858_a73f_11eb_a551_acde48001122row5_col10\" class=\"data row5 col10\" >0.30</td>\n",
       "                        <td id=\"T_8a1e5858_a73f_11eb_a551_acde48001122row5_col11\" class=\"data row5 col11\" >0.41</td>\n",
       "                        <td id=\"T_8a1e5858_a73f_11eb_a551_acde48001122row5_col12\" class=\"data row5 col12\" >0.35</td>\n",
       "                        <td id=\"T_8a1e5858_a73f_11eb_a551_acde48001122row5_col13\" class=\"data row5 col13\" >0.57</td>\n",
       "                        <td id=\"T_8a1e5858_a73f_11eb_a551_acde48001122row5_col14\" class=\"data row5 col14\" >0.36</td>\n",
       "                        <td id=\"T_8a1e5858_a73f_11eb_a551_acde48001122row5_col15\" class=\"data row5 col15\" >0.47</td>\n",
       "                        <td id=\"T_8a1e5858_a73f_11eb_a551_acde48001122row5_col16\" class=\"data row5 col16\" >0.40</td>\n",
       "                        <td id=\"T_8a1e5858_a73f_11eb_a551_acde48001122row5_col17\" class=\"data row5 col17\" >0.37</td>\n",
       "                        <td id=\"T_8a1e5858_a73f_11eb_a551_acde48001122row5_col18\" class=\"data row5 col18\" >0.47</td>\n",
       "            </tr>\n",
       "            <tr>\n",
       "                        <th id=\"T_8a1e5858_a73f_11eb_a551_acde48001122level0_row6\" class=\"row_heading level0 row6\" >LTC</th>\n",
       "                        <td id=\"T_8a1e5858_a73f_11eb_a551_acde48001122row6_col0\" class=\"data row6 col0\" >0.73</td>\n",
       "                        <td id=\"T_8a1e5858_a73f_11eb_a551_acde48001122row6_col1\" class=\"data row6 col1\" >-0.01</td>\n",
       "                        <td id=\"T_8a1e5858_a73f_11eb_a551_acde48001122row6_col2\" class=\"data row6 col2\" >0.76</td>\n",
       "                        <td id=\"T_8a1e5858_a73f_11eb_a551_acde48001122row6_col3\" class=\"data row6 col3\" >0.60</td>\n",
       "                        <td id=\"T_8a1e5858_a73f_11eb_a551_acde48001122row6_col4\" class=\"data row6 col4\" >0.62</td>\n",
       "                        <td id=\"T_8a1e5858_a73f_11eb_a551_acde48001122row6_col5\" class=\"data row6 col5\" >0.55</td>\n",
       "                        <td id=\"T_8a1e5858_a73f_11eb_a551_acde48001122row6_col6\" class=\"data row6 col6\" >1.00</td>\n",
       "                        <td id=\"T_8a1e5858_a73f_11eb_a551_acde48001122row6_col7\" class=\"data row6 col7\" >0.71</td>\n",
       "                        <td id=\"T_8a1e5858_a73f_11eb_a551_acde48001122row6_col8\" class=\"data row6 col8\" >0.56</td>\n",
       "                        <td id=\"T_8a1e5858_a73f_11eb_a551_acde48001122row6_col9\" class=\"data row6 col9\" >0.73</td>\n",
       "                        <td id=\"T_8a1e5858_a73f_11eb_a551_acde48001122row6_col10\" class=\"data row6 col10\" >0.36</td>\n",
       "                        <td id=\"T_8a1e5858_a73f_11eb_a551_acde48001122row6_col11\" class=\"data row6 col11\" >0.42</td>\n",
       "                        <td id=\"T_8a1e5858_a73f_11eb_a551_acde48001122row6_col12\" class=\"data row6 col12\" >0.42</td>\n",
       "                        <td id=\"T_8a1e5858_a73f_11eb_a551_acde48001122row6_col13\" class=\"data row6 col13\" >0.67</td>\n",
       "                        <td id=\"T_8a1e5858_a73f_11eb_a551_acde48001122row6_col14\" class=\"data row6 col14\" >0.48</td>\n",
       "                        <td id=\"T_8a1e5858_a73f_11eb_a551_acde48001122row6_col15\" class=\"data row6 col15\" >0.58</td>\n",
       "                        <td id=\"T_8a1e5858_a73f_11eb_a551_acde48001122row6_col16\" class=\"data row6 col16\" >0.47</td>\n",
       "                        <td id=\"T_8a1e5858_a73f_11eb_a551_acde48001122row6_col17\" class=\"data row6 col17\" >0.42</td>\n",
       "                        <td id=\"T_8a1e5858_a73f_11eb_a551_acde48001122row6_col18\" class=\"data row6 col18\" >0.53</td>\n",
       "            </tr>\n",
       "            <tr>\n",
       "                        <th id=\"T_8a1e5858_a73f_11eb_a551_acde48001122level0_row7\" class=\"row_heading level0 row7\" >LINK</th>\n",
       "                        <td id=\"T_8a1e5858_a73f_11eb_a551_acde48001122row7_col0\" class=\"data row7 col0\" >0.67</td>\n",
       "                        <td id=\"T_8a1e5858_a73f_11eb_a551_acde48001122row7_col1\" class=\"data row7 col1\" >-0.02</td>\n",
       "                        <td id=\"T_8a1e5858_a73f_11eb_a551_acde48001122row7_col2\" class=\"data row7 col2\" >0.75</td>\n",
       "                        <td id=\"T_8a1e5858_a73f_11eb_a551_acde48001122row7_col3\" class=\"data row7 col3\" >0.64</td>\n",
       "                        <td id=\"T_8a1e5858_a73f_11eb_a551_acde48001122row7_col4\" class=\"data row7 col4\" >0.64</td>\n",
       "                        <td id=\"T_8a1e5858_a73f_11eb_a551_acde48001122row7_col5\" class=\"data row7 col5\" >0.56</td>\n",
       "                        <td id=\"T_8a1e5858_a73f_11eb_a551_acde48001122row7_col6\" class=\"data row7 col6\" >0.71</td>\n",
       "                        <td id=\"T_8a1e5858_a73f_11eb_a551_acde48001122row7_col7\" class=\"data row7 col7\" >1.00</td>\n",
       "                        <td id=\"T_8a1e5858_a73f_11eb_a551_acde48001122row7_col8\" class=\"data row7 col8\" >0.59</td>\n",
       "                        <td id=\"T_8a1e5858_a73f_11eb_a551_acde48001122row7_col9\" class=\"data row7 col9\" >0.66</td>\n",
       "                        <td id=\"T_8a1e5858_a73f_11eb_a551_acde48001122row7_col10\" class=\"data row7 col10\" >0.36</td>\n",
       "                        <td id=\"T_8a1e5858_a73f_11eb_a551_acde48001122row7_col11\" class=\"data row7 col11\" >0.44</td>\n",
       "                        <td id=\"T_8a1e5858_a73f_11eb_a551_acde48001122row7_col12\" class=\"data row7 col12\" >0.43</td>\n",
       "                        <td id=\"T_8a1e5858_a73f_11eb_a551_acde48001122row7_col13\" class=\"data row7 col13\" >0.64</td>\n",
       "                        <td id=\"T_8a1e5858_a73f_11eb_a551_acde48001122row7_col14\" class=\"data row7 col14\" >0.42</td>\n",
       "                        <td id=\"T_8a1e5858_a73f_11eb_a551_acde48001122row7_col15\" class=\"data row7 col15\" >0.58</td>\n",
       "                        <td id=\"T_8a1e5858_a73f_11eb_a551_acde48001122row7_col16\" class=\"data row7 col16\" >0.49</td>\n",
       "                        <td id=\"T_8a1e5858_a73f_11eb_a551_acde48001122row7_col17\" class=\"data row7 col17\" >0.47</td>\n",
       "                        <td id=\"T_8a1e5858_a73f_11eb_a551_acde48001122row7_col18\" class=\"data row7 col18\" >0.55</td>\n",
       "            </tr>\n",
       "            <tr>\n",
       "                        <th id=\"T_8a1e5858_a73f_11eb_a551_acde48001122level0_row8\" class=\"row_heading level0 row8\" >XLM</th>\n",
       "                        <td id=\"T_8a1e5858_a73f_11eb_a551_acde48001122row8_col0\" class=\"data row8 col0\" >0.57</td>\n",
       "                        <td id=\"T_8a1e5858_a73f_11eb_a551_acde48001122row8_col1\" class=\"data row8 col1\" >-0.01</td>\n",
       "                        <td id=\"T_8a1e5858_a73f_11eb_a551_acde48001122row8_col2\" class=\"data row8 col2\" >0.58</td>\n",
       "                        <td id=\"T_8a1e5858_a73f_11eb_a551_acde48001122row8_col3\" class=\"data row8 col3\" >0.54</td>\n",
       "                        <td id=\"T_8a1e5858_a73f_11eb_a551_acde48001122row8_col4\" class=\"data row8 col4\" >0.53</td>\n",
       "                        <td id=\"T_8a1e5858_a73f_11eb_a551_acde48001122row8_col5\" class=\"data row8 col5\" >0.72</td>\n",
       "                        <td id=\"T_8a1e5858_a73f_11eb_a551_acde48001122row8_col6\" class=\"data row8 col6\" >0.56</td>\n",
       "                        <td id=\"T_8a1e5858_a73f_11eb_a551_acde48001122row8_col7\" class=\"data row8 col7\" >0.59</td>\n",
       "                        <td id=\"T_8a1e5858_a73f_11eb_a551_acde48001122row8_col8\" class=\"data row8 col8\" >1.00</td>\n",
       "                        <td id=\"T_8a1e5858_a73f_11eb_a551_acde48001122row8_col9\" class=\"data row8 col9\" >0.56</td>\n",
       "                        <td id=\"T_8a1e5858_a73f_11eb_a551_acde48001122row8_col10\" class=\"data row8 col10\" >0.31</td>\n",
       "                        <td id=\"T_8a1e5858_a73f_11eb_a551_acde48001122row8_col11\" class=\"data row8 col11\" >0.42</td>\n",
       "                        <td id=\"T_8a1e5858_a73f_11eb_a551_acde48001122row8_col12\" class=\"data row8 col12\" >0.36</td>\n",
       "                        <td id=\"T_8a1e5858_a73f_11eb_a551_acde48001122row8_col13\" class=\"data row8 col13\" >0.57</td>\n",
       "                        <td id=\"T_8a1e5858_a73f_11eb_a551_acde48001122row8_col14\" class=\"data row8 col14\" >0.39</td>\n",
       "                        <td id=\"T_8a1e5858_a73f_11eb_a551_acde48001122row8_col15\" class=\"data row8 col15\" >0.48</td>\n",
       "                        <td id=\"T_8a1e5858_a73f_11eb_a551_acde48001122row8_col16\" class=\"data row8 col16\" >0.44</td>\n",
       "                        <td id=\"T_8a1e5858_a73f_11eb_a551_acde48001122row8_col17\" class=\"data row8 col17\" >0.42</td>\n",
       "                        <td id=\"T_8a1e5858_a73f_11eb_a551_acde48001122row8_col18\" class=\"data row8 col18\" >0.49</td>\n",
       "            </tr>\n",
       "            <tr>\n",
       "                        <th id=\"T_8a1e5858_a73f_11eb_a551_acde48001122level0_row9\" class=\"row_heading level0 row9\" >BCH</th>\n",
       "                        <td id=\"T_8a1e5858_a73f_11eb_a551_acde48001122row9_col0\" class=\"data row9 col0\" >0.64</td>\n",
       "                        <td id=\"T_8a1e5858_a73f_11eb_a551_acde48001122row9_col1\" class=\"data row9 col1\" >-0.03</td>\n",
       "                        <td id=\"T_8a1e5858_a73f_11eb_a551_acde48001122row9_col2\" class=\"data row9 col2\" >0.67</td>\n",
       "                        <td id=\"T_8a1e5858_a73f_11eb_a551_acde48001122row9_col3\" class=\"data row9 col3\" >0.55</td>\n",
       "                        <td id=\"T_8a1e5858_a73f_11eb_a551_acde48001122row9_col4\" class=\"data row9 col4\" >0.57</td>\n",
       "                        <td id=\"T_8a1e5858_a73f_11eb_a551_acde48001122row9_col5\" class=\"data row9 col5\" >0.54</td>\n",
       "                        <td id=\"T_8a1e5858_a73f_11eb_a551_acde48001122row9_col6\" class=\"data row9 col6\" >0.73</td>\n",
       "                        <td id=\"T_8a1e5858_a73f_11eb_a551_acde48001122row9_col7\" class=\"data row9 col7\" >0.66</td>\n",
       "                        <td id=\"T_8a1e5858_a73f_11eb_a551_acde48001122row9_col8\" class=\"data row9 col8\" >0.56</td>\n",
       "                        <td id=\"T_8a1e5858_a73f_11eb_a551_acde48001122row9_col9\" class=\"data row9 col9\" >1.00</td>\n",
       "                        <td id=\"T_8a1e5858_a73f_11eb_a551_acde48001122row9_col10\" class=\"data row9 col10\" >0.36</td>\n",
       "                        <td id=\"T_8a1e5858_a73f_11eb_a551_acde48001122row9_col11\" class=\"data row9 col11\" >0.42</td>\n",
       "                        <td id=\"T_8a1e5858_a73f_11eb_a551_acde48001122row9_col12\" class=\"data row9 col12\" >0.42</td>\n",
       "                        <td id=\"T_8a1e5858_a73f_11eb_a551_acde48001122row9_col13\" class=\"data row9 col13\" >0.72</td>\n",
       "                        <td id=\"T_8a1e5858_a73f_11eb_a551_acde48001122row9_col14\" class=\"data row9 col14\" >0.58</td>\n",
       "                        <td id=\"T_8a1e5858_a73f_11eb_a551_acde48001122row9_col15\" class=\"data row9 col15\" >0.56</td>\n",
       "                        <td id=\"T_8a1e5858_a73f_11eb_a551_acde48001122row9_col16\" class=\"data row9 col16\" >0.44</td>\n",
       "                        <td id=\"T_8a1e5858_a73f_11eb_a551_acde48001122row9_col17\" class=\"data row9 col17\" >0.40</td>\n",
       "                        <td id=\"T_8a1e5858_a73f_11eb_a551_acde48001122row9_col18\" class=\"data row9 col18\" >0.51</td>\n",
       "            </tr>\n",
       "            <tr>\n",
       "                        <th id=\"T_8a1e5858_a73f_11eb_a551_acde48001122level0_row10\" class=\"row_heading level0 row10\" >DOGE</th>\n",
       "                        <td id=\"T_8a1e5858_a73f_11eb_a551_acde48001122row10_col0\" class=\"data row10 col0\" >0.37</td>\n",
       "                        <td id=\"T_8a1e5858_a73f_11eb_a551_acde48001122row10_col1\" class=\"data row10 col1\" >-0.01</td>\n",
       "                        <td id=\"T_8a1e5858_a73f_11eb_a551_acde48001122row10_col2\" class=\"data row10 col2\" >0.38</td>\n",
       "                        <td id=\"T_8a1e5858_a73f_11eb_a551_acde48001122row10_col3\" class=\"data row10 col3\" >0.33</td>\n",
       "                        <td id=\"T_8a1e5858_a73f_11eb_a551_acde48001122row10_col4\" class=\"data row10 col4\" >0.32</td>\n",
       "                        <td id=\"T_8a1e5858_a73f_11eb_a551_acde48001122row10_col5\" class=\"data row10 col5\" >0.30</td>\n",
       "                        <td id=\"T_8a1e5858_a73f_11eb_a551_acde48001122row10_col6\" class=\"data row10 col6\" >0.36</td>\n",
       "                        <td id=\"T_8a1e5858_a73f_11eb_a551_acde48001122row10_col7\" class=\"data row10 col7\" >0.36</td>\n",
       "                        <td id=\"T_8a1e5858_a73f_11eb_a551_acde48001122row10_col8\" class=\"data row10 col8\" >0.31</td>\n",
       "                        <td id=\"T_8a1e5858_a73f_11eb_a551_acde48001122row10_col9\" class=\"data row10 col9\" >0.36</td>\n",
       "                        <td id=\"T_8a1e5858_a73f_11eb_a551_acde48001122row10_col10\" class=\"data row10 col10\" >1.00</td>\n",
       "                        <td id=\"T_8a1e5858_a73f_11eb_a551_acde48001122row10_col11\" class=\"data row10 col11\" >0.25</td>\n",
       "                        <td id=\"T_8a1e5858_a73f_11eb_a551_acde48001122row10_col12\" class=\"data row10 col12\" >0.24</td>\n",
       "                        <td id=\"T_8a1e5858_a73f_11eb_a551_acde48001122row10_col13\" class=\"data row10 col13\" >0.34</td>\n",
       "                        <td id=\"T_8a1e5858_a73f_11eb_a551_acde48001122row10_col14\" class=\"data row10 col14\" >0.24</td>\n",
       "                        <td id=\"T_8a1e5858_a73f_11eb_a551_acde48001122row10_col15\" class=\"data row10 col15\" >0.29</td>\n",
       "                        <td id=\"T_8a1e5858_a73f_11eb_a551_acde48001122row10_col16\" class=\"data row10 col16\" >0.27</td>\n",
       "                        <td id=\"T_8a1e5858_a73f_11eb_a551_acde48001122row10_col17\" class=\"data row10 col17\" >0.27</td>\n",
       "                        <td id=\"T_8a1e5858_a73f_11eb_a551_acde48001122row10_col18\" class=\"data row10 col18\" >0.34</td>\n",
       "            </tr>\n",
       "            <tr>\n",
       "                        <th id=\"T_8a1e5858_a73f_11eb_a551_acde48001122level0_row11\" class=\"row_heading level0 row11\" >XEM</th>\n",
       "                        <td id=\"T_8a1e5858_a73f_11eb_a551_acde48001122row11_col0\" class=\"data row11 col0\" >0.46</td>\n",
       "                        <td id=\"T_8a1e5858_a73f_11eb_a551_acde48001122row11_col1\" class=\"data row11 col1\" >-0.01</td>\n",
       "                        <td id=\"T_8a1e5858_a73f_11eb_a551_acde48001122row11_col2\" class=\"data row11 col2\" >0.46</td>\n",
       "                        <td id=\"T_8a1e5858_a73f_11eb_a551_acde48001122row11_col3\" class=\"data row11 col3\" >0.39</td>\n",
       "                        <td id=\"T_8a1e5858_a73f_11eb_a551_acde48001122row11_col4\" class=\"data row11 col4\" >0.43</td>\n",
       "                        <td id=\"T_8a1e5858_a73f_11eb_a551_acde48001122row11_col5\" class=\"data row11 col5\" >0.41</td>\n",
       "                        <td id=\"T_8a1e5858_a73f_11eb_a551_acde48001122row11_col6\" class=\"data row11 col6\" >0.42</td>\n",
       "                        <td id=\"T_8a1e5858_a73f_11eb_a551_acde48001122row11_col7\" class=\"data row11 col7\" >0.44</td>\n",
       "                        <td id=\"T_8a1e5858_a73f_11eb_a551_acde48001122row11_col8\" class=\"data row11 col8\" >0.42</td>\n",
       "                        <td id=\"T_8a1e5858_a73f_11eb_a551_acde48001122row11_col9\" class=\"data row11 col9\" >0.42</td>\n",
       "                        <td id=\"T_8a1e5858_a73f_11eb_a551_acde48001122row11_col10\" class=\"data row11 col10\" >0.25</td>\n",
       "                        <td id=\"T_8a1e5858_a73f_11eb_a551_acde48001122row11_col11\" class=\"data row11 col11\" >1.00</td>\n",
       "                        <td id=\"T_8a1e5858_a73f_11eb_a551_acde48001122row11_col12\" class=\"data row11 col12\" >0.28</td>\n",
       "                        <td id=\"T_8a1e5858_a73f_11eb_a551_acde48001122row11_col13\" class=\"data row11 col13\" >0.41</td>\n",
       "                        <td id=\"T_8a1e5858_a73f_11eb_a551_acde48001122row11_col14\" class=\"data row11 col14\" >0.29</td>\n",
       "                        <td id=\"T_8a1e5858_a73f_11eb_a551_acde48001122row11_col15\" class=\"data row11 col15\" >0.38</td>\n",
       "                        <td id=\"T_8a1e5858_a73f_11eb_a551_acde48001122row11_col16\" class=\"data row11 col16\" >0.37</td>\n",
       "                        <td id=\"T_8a1e5858_a73f_11eb_a551_acde48001122row11_col17\" class=\"data row11 col17\" >0.35</td>\n",
       "                        <td id=\"T_8a1e5858_a73f_11eb_a551_acde48001122row11_col18\" class=\"data row11 col18\" >0.40</td>\n",
       "            </tr>\n",
       "            <tr>\n",
       "                        <th id=\"T_8a1e5858_a73f_11eb_a551_acde48001122level0_row12\" class=\"row_heading level0 row12\" >XMR</th>\n",
       "                        <td id=\"T_8a1e5858_a73f_11eb_a551_acde48001122row12_col0\" class=\"data row12 col0\" >0.43</td>\n",
       "                        <td id=\"T_8a1e5858_a73f_11eb_a551_acde48001122row12_col1\" class=\"data row12 col1\" >-0.01</td>\n",
       "                        <td id=\"T_8a1e5858_a73f_11eb_a551_acde48001122row12_col2\" class=\"data row12 col2\" >0.44</td>\n",
       "                        <td id=\"T_8a1e5858_a73f_11eb_a551_acde48001122row12_col3\" class=\"data row12 col3\" >0.38</td>\n",
       "                        <td id=\"T_8a1e5858_a73f_11eb_a551_acde48001122row12_col4\" class=\"data row12 col4\" >0.39</td>\n",
       "                        <td id=\"T_8a1e5858_a73f_11eb_a551_acde48001122row12_col5\" class=\"data row12 col5\" >0.35</td>\n",
       "                        <td id=\"T_8a1e5858_a73f_11eb_a551_acde48001122row12_col6\" class=\"data row12 col6\" >0.42</td>\n",
       "                        <td id=\"T_8a1e5858_a73f_11eb_a551_acde48001122row12_col7\" class=\"data row12 col7\" >0.43</td>\n",
       "                        <td id=\"T_8a1e5858_a73f_11eb_a551_acde48001122row12_col8\" class=\"data row12 col8\" >0.36</td>\n",
       "                        <td id=\"T_8a1e5858_a73f_11eb_a551_acde48001122row12_col9\" class=\"data row12 col9\" >0.42</td>\n",
       "                        <td id=\"T_8a1e5858_a73f_11eb_a551_acde48001122row12_col10\" class=\"data row12 col10\" >0.24</td>\n",
       "                        <td id=\"T_8a1e5858_a73f_11eb_a551_acde48001122row12_col11\" class=\"data row12 col11\" >0.28</td>\n",
       "                        <td id=\"T_8a1e5858_a73f_11eb_a551_acde48001122row12_col12\" class=\"data row12 col12\" >1.00</td>\n",
       "                        <td id=\"T_8a1e5858_a73f_11eb_a551_acde48001122row12_col13\" class=\"data row12 col13\" >0.39</td>\n",
       "                        <td id=\"T_8a1e5858_a73f_11eb_a551_acde48001122row12_col14\" class=\"data row12 col14\" >0.28</td>\n",
       "                        <td id=\"T_8a1e5858_a73f_11eb_a551_acde48001122row12_col15\" class=\"data row12 col15\" >0.35</td>\n",
       "                        <td id=\"T_8a1e5858_a73f_11eb_a551_acde48001122row12_col16\" class=\"data row12 col16\" >0.31</td>\n",
       "                        <td id=\"T_8a1e5858_a73f_11eb_a551_acde48001122row12_col17\" class=\"data row12 col17\" >0.30</td>\n",
       "                        <td id=\"T_8a1e5858_a73f_11eb_a551_acde48001122row12_col18\" class=\"data row12 col18\" >0.35</td>\n",
       "            </tr>\n",
       "            <tr>\n",
       "                        <th id=\"T_8a1e5858_a73f_11eb_a551_acde48001122level0_row13\" class=\"row_heading level0 row13\" >EOS</th>\n",
       "                        <td id=\"T_8a1e5858_a73f_11eb_a551_acde48001122row13_col0\" class=\"data row13 col0\" >0.62</td>\n",
       "                        <td id=\"T_8a1e5858_a73f_11eb_a551_acde48001122row13_col1\" class=\"data row13 col1\" >-0.01</td>\n",
       "                        <td id=\"T_8a1e5858_a73f_11eb_a551_acde48001122row13_col2\" class=\"data row13 col2\" >0.65</td>\n",
       "                        <td id=\"T_8a1e5858_a73f_11eb_a551_acde48001122row13_col3\" class=\"data row13 col3\" >0.55</td>\n",
       "                        <td id=\"T_8a1e5858_a73f_11eb_a551_acde48001122row13_col4\" class=\"data row13 col4\" >0.56</td>\n",
       "                        <td id=\"T_8a1e5858_a73f_11eb_a551_acde48001122row13_col5\" class=\"data row13 col5\" >0.57</td>\n",
       "                        <td id=\"T_8a1e5858_a73f_11eb_a551_acde48001122row13_col6\" class=\"data row13 col6\" >0.67</td>\n",
       "                        <td id=\"T_8a1e5858_a73f_11eb_a551_acde48001122row13_col7\" class=\"data row13 col7\" >0.64</td>\n",
       "                        <td id=\"T_8a1e5858_a73f_11eb_a551_acde48001122row13_col8\" class=\"data row13 col8\" >0.57</td>\n",
       "                        <td id=\"T_8a1e5858_a73f_11eb_a551_acde48001122row13_col9\" class=\"data row13 col9\" >0.72</td>\n",
       "                        <td id=\"T_8a1e5858_a73f_11eb_a551_acde48001122row13_col10\" class=\"data row13 col10\" >0.34</td>\n",
       "                        <td id=\"T_8a1e5858_a73f_11eb_a551_acde48001122row13_col11\" class=\"data row13 col11\" >0.41</td>\n",
       "                        <td id=\"T_8a1e5858_a73f_11eb_a551_acde48001122row13_col12\" class=\"data row13 col12\" >0.39</td>\n",
       "                        <td id=\"T_8a1e5858_a73f_11eb_a551_acde48001122row13_col13\" class=\"data row13 col13\" >1.00</td>\n",
       "                        <td id=\"T_8a1e5858_a73f_11eb_a551_acde48001122row13_col14\" class=\"data row13 col14\" >0.52</td>\n",
       "                        <td id=\"T_8a1e5858_a73f_11eb_a551_acde48001122row13_col15\" class=\"data row13 col15\" >0.57</td>\n",
       "                        <td id=\"T_8a1e5858_a73f_11eb_a551_acde48001122row13_col16\" class=\"data row13 col16\" >0.44</td>\n",
       "                        <td id=\"T_8a1e5858_a73f_11eb_a551_acde48001122row13_col17\" class=\"data row13 col17\" >0.40</td>\n",
       "                        <td id=\"T_8a1e5858_a73f_11eb_a551_acde48001122row13_col18\" class=\"data row13 col18\" >0.49</td>\n",
       "            </tr>\n",
       "            <tr>\n",
       "                        <th id=\"T_8a1e5858_a73f_11eb_a551_acde48001122level0_row14\" class=\"row_heading level0 row14\" >BSV</th>\n",
       "                        <td id=\"T_8a1e5858_a73f_11eb_a551_acde48001122row14_col0\" class=\"data row14 col0\" >0.42</td>\n",
       "                        <td id=\"T_8a1e5858_a73f_11eb_a551_acde48001122row14_col1\" class=\"data row14 col1\" >-0.01</td>\n",
       "                        <td id=\"T_8a1e5858_a73f_11eb_a551_acde48001122row14_col2\" class=\"data row14 col2\" >0.43</td>\n",
       "                        <td id=\"T_8a1e5858_a73f_11eb_a551_acde48001122row14_col3\" class=\"data row14 col3\" >0.35</td>\n",
       "                        <td id=\"T_8a1e5858_a73f_11eb_a551_acde48001122row14_col4\" class=\"data row14 col4\" >0.36</td>\n",
       "                        <td id=\"T_8a1e5858_a73f_11eb_a551_acde48001122row14_col5\" class=\"data row14 col5\" >0.36</td>\n",
       "                        <td id=\"T_8a1e5858_a73f_11eb_a551_acde48001122row14_col6\" class=\"data row14 col6\" >0.48</td>\n",
       "                        <td id=\"T_8a1e5858_a73f_11eb_a551_acde48001122row14_col7\" class=\"data row14 col7\" >0.42</td>\n",
       "                        <td id=\"T_8a1e5858_a73f_11eb_a551_acde48001122row14_col8\" class=\"data row14 col8\" >0.39</td>\n",
       "                        <td id=\"T_8a1e5858_a73f_11eb_a551_acde48001122row14_col9\" class=\"data row14 col9\" >0.58</td>\n",
       "                        <td id=\"T_8a1e5858_a73f_11eb_a551_acde48001122row14_col10\" class=\"data row14 col10\" >0.24</td>\n",
       "                        <td id=\"T_8a1e5858_a73f_11eb_a551_acde48001122row14_col11\" class=\"data row14 col11\" >0.29</td>\n",
       "                        <td id=\"T_8a1e5858_a73f_11eb_a551_acde48001122row14_col12\" class=\"data row14 col12\" >0.28</td>\n",
       "                        <td id=\"T_8a1e5858_a73f_11eb_a551_acde48001122row14_col13\" class=\"data row14 col13\" >0.52</td>\n",
       "                        <td id=\"T_8a1e5858_a73f_11eb_a551_acde48001122row14_col14\" class=\"data row14 col14\" >1.00</td>\n",
       "                        <td id=\"T_8a1e5858_a73f_11eb_a551_acde48001122row14_col15\" class=\"data row14 col15\" >0.38</td>\n",
       "                        <td id=\"T_8a1e5858_a73f_11eb_a551_acde48001122row14_col16\" class=\"data row14 col16\" >0.29</td>\n",
       "                        <td id=\"T_8a1e5858_a73f_11eb_a551_acde48001122row14_col17\" class=\"data row14 col17\" >0.28</td>\n",
       "                        <td id=\"T_8a1e5858_a73f_11eb_a551_acde48001122row14_col18\" class=\"data row14 col18\" >0.33</td>\n",
       "            </tr>\n",
       "            <tr>\n",
       "                        <th id=\"T_8a1e5858_a73f_11eb_a551_acde48001122level0_row15\" class=\"row_heading level0 row15\" >TRX</th>\n",
       "                        <td id=\"T_8a1e5858_a73f_11eb_a551_acde48001122row15_col0\" class=\"data row15 col0\" >0.56</td>\n",
       "                        <td id=\"T_8a1e5858_a73f_11eb_a551_acde48001122row15_col1\" class=\"data row15 col1\" >-0.02</td>\n",
       "                        <td id=\"T_8a1e5858_a73f_11eb_a551_acde48001122row15_col2\" class=\"data row15 col2\" >0.59</td>\n",
       "                        <td id=\"T_8a1e5858_a73f_11eb_a551_acde48001122row15_col3\" class=\"data row15 col3\" >0.51</td>\n",
       "                        <td id=\"T_8a1e5858_a73f_11eb_a551_acde48001122row15_col4\" class=\"data row15 col4\" >0.51</td>\n",
       "                        <td id=\"T_8a1e5858_a73f_11eb_a551_acde48001122row15_col5\" class=\"data row15 col5\" >0.47</td>\n",
       "                        <td id=\"T_8a1e5858_a73f_11eb_a551_acde48001122row15_col6\" class=\"data row15 col6\" >0.58</td>\n",
       "                        <td id=\"T_8a1e5858_a73f_11eb_a551_acde48001122row15_col7\" class=\"data row15 col7\" >0.58</td>\n",
       "                        <td id=\"T_8a1e5858_a73f_11eb_a551_acde48001122row15_col8\" class=\"data row15 col8\" >0.48</td>\n",
       "                        <td id=\"T_8a1e5858_a73f_11eb_a551_acde48001122row15_col9\" class=\"data row15 col9\" >0.56</td>\n",
       "                        <td id=\"T_8a1e5858_a73f_11eb_a551_acde48001122row15_col10\" class=\"data row15 col10\" >0.29</td>\n",
       "                        <td id=\"T_8a1e5858_a73f_11eb_a551_acde48001122row15_col11\" class=\"data row15 col11\" >0.38</td>\n",
       "                        <td id=\"T_8a1e5858_a73f_11eb_a551_acde48001122row15_col12\" class=\"data row15 col12\" >0.35</td>\n",
       "                        <td id=\"T_8a1e5858_a73f_11eb_a551_acde48001122row15_col13\" class=\"data row15 col13\" >0.57</td>\n",
       "                        <td id=\"T_8a1e5858_a73f_11eb_a551_acde48001122row15_col14\" class=\"data row15 col14\" >0.38</td>\n",
       "                        <td id=\"T_8a1e5858_a73f_11eb_a551_acde48001122row15_col15\" class=\"data row15 col15\" >1.00</td>\n",
       "                        <td id=\"T_8a1e5858_a73f_11eb_a551_acde48001122row15_col16\" class=\"data row15 col16\" >0.42</td>\n",
       "                        <td id=\"T_8a1e5858_a73f_11eb_a551_acde48001122row15_col17\" class=\"data row15 col17\" >0.39</td>\n",
       "                        <td id=\"T_8a1e5858_a73f_11eb_a551_acde48001122row15_col18\" class=\"data row15 col18\" >0.47</td>\n",
       "            </tr>\n",
       "            <tr>\n",
       "                        <th id=\"T_8a1e5858_a73f_11eb_a551_acde48001122level0_row16\" class=\"row_heading level0 row16\" >MIOTA</th>\n",
       "                        <td id=\"T_8a1e5858_a73f_11eb_a551_acde48001122row16_col0\" class=\"data row16 col0\" >0.50</td>\n",
       "                        <td id=\"T_8a1e5858_a73f_11eb_a551_acde48001122row16_col1\" class=\"data row16 col1\" >0.00</td>\n",
       "                        <td id=\"T_8a1e5858_a73f_11eb_a551_acde48001122row16_col2\" class=\"data row16 col2\" >0.51</td>\n",
       "                        <td id=\"T_8a1e5858_a73f_11eb_a551_acde48001122row16_col3\" class=\"data row16 col3\" >0.44</td>\n",
       "                        <td id=\"T_8a1e5858_a73f_11eb_a551_acde48001122row16_col4\" class=\"data row16 col4\" >0.49</td>\n",
       "                        <td id=\"T_8a1e5858_a73f_11eb_a551_acde48001122row16_col5\" class=\"data row16 col5\" >0.40</td>\n",
       "                        <td id=\"T_8a1e5858_a73f_11eb_a551_acde48001122row16_col6\" class=\"data row16 col6\" >0.47</td>\n",
       "                        <td id=\"T_8a1e5858_a73f_11eb_a551_acde48001122row16_col7\" class=\"data row16 col7\" >0.49</td>\n",
       "                        <td id=\"T_8a1e5858_a73f_11eb_a551_acde48001122row16_col8\" class=\"data row16 col8\" >0.44</td>\n",
       "                        <td id=\"T_8a1e5858_a73f_11eb_a551_acde48001122row16_col9\" class=\"data row16 col9\" >0.44</td>\n",
       "                        <td id=\"T_8a1e5858_a73f_11eb_a551_acde48001122row16_col10\" class=\"data row16 col10\" >0.27</td>\n",
       "                        <td id=\"T_8a1e5858_a73f_11eb_a551_acde48001122row16_col11\" class=\"data row16 col11\" >0.37</td>\n",
       "                        <td id=\"T_8a1e5858_a73f_11eb_a551_acde48001122row16_col12\" class=\"data row16 col12\" >0.31</td>\n",
       "                        <td id=\"T_8a1e5858_a73f_11eb_a551_acde48001122row16_col13\" class=\"data row16 col13\" >0.44</td>\n",
       "                        <td id=\"T_8a1e5858_a73f_11eb_a551_acde48001122row16_col14\" class=\"data row16 col14\" >0.29</td>\n",
       "                        <td id=\"T_8a1e5858_a73f_11eb_a551_acde48001122row16_col15\" class=\"data row16 col15\" >0.42</td>\n",
       "                        <td id=\"T_8a1e5858_a73f_11eb_a551_acde48001122row16_col16\" class=\"data row16 col16\" >1.00</td>\n",
       "                        <td id=\"T_8a1e5858_a73f_11eb_a551_acde48001122row16_col17\" class=\"data row16 col17\" >0.42</td>\n",
       "                        <td id=\"T_8a1e5858_a73f_11eb_a551_acde48001122row16_col18\" class=\"data row16 col18\" >0.45</td>\n",
       "            </tr>\n",
       "            <tr>\n",
       "                        <th id=\"T_8a1e5858_a73f_11eb_a551_acde48001122level0_row17\" class=\"row_heading level0 row17\" >THETA</th>\n",
       "                        <td id=\"T_8a1e5858_a73f_11eb_a551_acde48001122row17_col0\" class=\"data row17 col0\" >0.45</td>\n",
       "                        <td id=\"T_8a1e5858_a73f_11eb_a551_acde48001122row17_col1\" class=\"data row17 col1\" >-0.02</td>\n",
       "                        <td id=\"T_8a1e5858_a73f_11eb_a551_acde48001122row17_col2\" class=\"data row17 col2\" >0.46</td>\n",
       "                        <td id=\"T_8a1e5858_a73f_11eb_a551_acde48001122row17_col3\" class=\"data row17 col3\" >0.41</td>\n",
       "                        <td id=\"T_8a1e5858_a73f_11eb_a551_acde48001122row17_col4\" class=\"data row17 col4\" >0.45</td>\n",
       "                        <td id=\"T_8a1e5858_a73f_11eb_a551_acde48001122row17_col5\" class=\"data row17 col5\" >0.37</td>\n",
       "                        <td id=\"T_8a1e5858_a73f_11eb_a551_acde48001122row17_col6\" class=\"data row17 col6\" >0.42</td>\n",
       "                        <td id=\"T_8a1e5858_a73f_11eb_a551_acde48001122row17_col7\" class=\"data row17 col7\" >0.47</td>\n",
       "                        <td id=\"T_8a1e5858_a73f_11eb_a551_acde48001122row17_col8\" class=\"data row17 col8\" >0.42</td>\n",
       "                        <td id=\"T_8a1e5858_a73f_11eb_a551_acde48001122row17_col9\" class=\"data row17 col9\" >0.40</td>\n",
       "                        <td id=\"T_8a1e5858_a73f_11eb_a551_acde48001122row17_col10\" class=\"data row17 col10\" >0.27</td>\n",
       "                        <td id=\"T_8a1e5858_a73f_11eb_a551_acde48001122row17_col11\" class=\"data row17 col11\" >0.35</td>\n",
       "                        <td id=\"T_8a1e5858_a73f_11eb_a551_acde48001122row17_col12\" class=\"data row17 col12\" >0.30</td>\n",
       "                        <td id=\"T_8a1e5858_a73f_11eb_a551_acde48001122row17_col13\" class=\"data row17 col13\" >0.40</td>\n",
       "                        <td id=\"T_8a1e5858_a73f_11eb_a551_acde48001122row17_col14\" class=\"data row17 col14\" >0.28</td>\n",
       "                        <td id=\"T_8a1e5858_a73f_11eb_a551_acde48001122row17_col15\" class=\"data row17 col15\" >0.39</td>\n",
       "                        <td id=\"T_8a1e5858_a73f_11eb_a551_acde48001122row17_col16\" class=\"data row17 col16\" >0.42</td>\n",
       "                        <td id=\"T_8a1e5858_a73f_11eb_a551_acde48001122row17_col17\" class=\"data row17 col17\" >1.00</td>\n",
       "                        <td id=\"T_8a1e5858_a73f_11eb_a551_acde48001122row17_col18\" class=\"data row17 col18\" >0.44</td>\n",
       "            </tr>\n",
       "            <tr>\n",
       "                        <th id=\"T_8a1e5858_a73f_11eb_a551_acde48001122level0_row18\" class=\"row_heading level0 row18\" >VET</th>\n",
       "                        <td id=\"T_8a1e5858_a73f_11eb_a551_acde48001122row18_col0\" class=\"data row18 col0\" >0.55</td>\n",
       "                        <td id=\"T_8a1e5858_a73f_11eb_a551_acde48001122row18_col1\" class=\"data row18 col1\" >-0.01</td>\n",
       "                        <td id=\"T_8a1e5858_a73f_11eb_a551_acde48001122row18_col2\" class=\"data row18 col2\" >0.57</td>\n",
       "                        <td id=\"T_8a1e5858_a73f_11eb_a551_acde48001122row18_col3\" class=\"data row18 col3\" >0.50</td>\n",
       "                        <td id=\"T_8a1e5858_a73f_11eb_a551_acde48001122row18_col4\" class=\"data row18 col4\" >0.52</td>\n",
       "                        <td id=\"T_8a1e5858_a73f_11eb_a551_acde48001122row18_col5\" class=\"data row18 col5\" >0.47</td>\n",
       "                        <td id=\"T_8a1e5858_a73f_11eb_a551_acde48001122row18_col6\" class=\"data row18 col6\" >0.53</td>\n",
       "                        <td id=\"T_8a1e5858_a73f_11eb_a551_acde48001122row18_col7\" class=\"data row18 col7\" >0.55</td>\n",
       "                        <td id=\"T_8a1e5858_a73f_11eb_a551_acde48001122row18_col8\" class=\"data row18 col8\" >0.49</td>\n",
       "                        <td id=\"T_8a1e5858_a73f_11eb_a551_acde48001122row18_col9\" class=\"data row18 col9\" >0.51</td>\n",
       "                        <td id=\"T_8a1e5858_a73f_11eb_a551_acde48001122row18_col10\" class=\"data row18 col10\" >0.34</td>\n",
       "                        <td id=\"T_8a1e5858_a73f_11eb_a551_acde48001122row18_col11\" class=\"data row18 col11\" >0.40</td>\n",
       "                        <td id=\"T_8a1e5858_a73f_11eb_a551_acde48001122row18_col12\" class=\"data row18 col12\" >0.35</td>\n",
       "                        <td id=\"T_8a1e5858_a73f_11eb_a551_acde48001122row18_col13\" class=\"data row18 col13\" >0.49</td>\n",
       "                        <td id=\"T_8a1e5858_a73f_11eb_a551_acde48001122row18_col14\" class=\"data row18 col14\" >0.33</td>\n",
       "                        <td id=\"T_8a1e5858_a73f_11eb_a551_acde48001122row18_col15\" class=\"data row18 col15\" >0.47</td>\n",
       "                        <td id=\"T_8a1e5858_a73f_11eb_a551_acde48001122row18_col16\" class=\"data row18 col16\" >0.45</td>\n",
       "                        <td id=\"T_8a1e5858_a73f_11eb_a551_acde48001122row18_col17\" class=\"data row18 col17\" >0.44</td>\n",
       "                        <td id=\"T_8a1e5858_a73f_11eb_a551_acde48001122row18_col18\" class=\"data row18 col18\" >1.00</td>\n",
       "            </tr>\n",
       "    </tbody></table>"
      ],
      "text/plain": [
       "<pandas.io.formats.style.Styler at 0x7f941a393be0>"
      ]
     },
     "execution_count": 95,
     "metadata": {},
     "output_type": "execute_result"
    }
   ],
   "source": [
    "corr2 = df.corr()\n",
    "corr2.style.background_gradient(cmap=\"coolwarm\").set_precision(2)"
   ]
  },
  {
   "cell_type": "markdown",
   "metadata": {},
   "source": [
    "### Observation:\n",
    "From the data we can see that the tokens percentage changes with the highest correlationship with BTC is ETH at 0.8 hence we can see that there is no high corelationship between the tokens as they are below 85% relationship."
   ]
  },
  {
   "cell_type": "markdown",
   "metadata": {},
   "source": [
    "## Question 2: When is it best to purchase bitcoins?\n",
    "For this observation we will extract data from yahoo finance for the 12 months and the maximum year we can obtain and allocate it into the variable df_best. As we are interested in pricing in closing price hence we will drop the other columns."
   ]
  },
  {
   "cell_type": "code",
   "execution_count": 8,
   "metadata": {},
   "outputs": [
    {
     "name": "stdout",
     "output_type": "stream",
     "text": [
      "[*********************100%***********************]  1 of 1 completed\n"
     ]
    }
   ],
   "source": [
    "df_best = yf.download('BTC-USD',period=\"max\", interval=\"1mo\")"
   ]
  },
  {
   "cell_type": "code",
   "execution_count": 9,
   "metadata": {},
   "outputs": [
    {
     "data": {
      "text/html": [
       "<div>\n",
       "<style scoped>\n",
       "    .dataframe tbody tr th:only-of-type {\n",
       "        vertical-align: middle;\n",
       "    }\n",
       "\n",
       "    .dataframe tbody tr th {\n",
       "        vertical-align: top;\n",
       "    }\n",
       "\n",
       "    .dataframe thead th {\n",
       "        text-align: right;\n",
       "    }\n",
       "</style>\n",
       "<table border=\"1\" class=\"dataframe\">\n",
       "  <thead>\n",
       "    <tr style=\"text-align: right;\">\n",
       "      <th></th>\n",
       "      <th>Open</th>\n",
       "      <th>High</th>\n",
       "      <th>Low</th>\n",
       "      <th>Close</th>\n",
       "      <th>Adj Close</th>\n",
       "      <th>Volume</th>\n",
       "    </tr>\n",
       "  </thead>\n",
       "  <tbody>\n",
       "    <tr>\n",
       "      <th>count</th>\n",
       "      <td>80.000000</td>\n",
       "      <td>80.000000</td>\n",
       "      <td>80.000000</td>\n",
       "      <td>80.000000</td>\n",
       "      <td>80.000000</td>\n",
       "      <td>8.000000e+01</td>\n",
       "    </tr>\n",
       "    <tr>\n",
       "      <th>mean</th>\n",
       "      <td>7218.649754</td>\n",
       "      <td>9102.933809</td>\n",
       "      <td>6406.231481</td>\n",
       "      <td>7832.648848</td>\n",
       "      <td>7832.648848</td>\n",
       "      <td>3.569021e+11</td>\n",
       "    </tr>\n",
       "    <tr>\n",
       "      <th>std</th>\n",
       "      <td>10922.213782</td>\n",
       "      <td>13707.758410</td>\n",
       "      <td>10110.279685</td>\n",
       "      <td>11874.138181</td>\n",
       "      <td>11874.138181</td>\n",
       "      <td>5.164707e+11</td>\n",
       "    </tr>\n",
       "    <tr>\n",
       "      <th>min</th>\n",
       "      <td>216.867004</td>\n",
       "      <td>247.804001</td>\n",
       "      <td>171.509995</td>\n",
       "      <td>217.464005</td>\n",
       "      <td>217.464005</td>\n",
       "      <td>5.531023e+08</td>\n",
       "    </tr>\n",
       "    <tr>\n",
       "      <th>25%</th>\n",
       "      <td>510.451248</td>\n",
       "      <td>608.079269</td>\n",
       "      <td>503.574242</td>\n",
       "      <td>564.450485</td>\n",
       "      <td>564.450485</td>\n",
       "      <td>2.220230e+09</td>\n",
       "    </tr>\n",
       "    <tr>\n",
       "      <th>50%</th>\n",
       "      <td>4223.206055</td>\n",
       "      <td>5308.542236</td>\n",
       "      <td>3659.404907</td>\n",
       "      <td>4521.050049</td>\n",
       "      <td>4521.050049</td>\n",
       "      <td>1.299798e+11</td>\n",
       "    </tr>\n",
       "    <tr>\n",
       "      <th>75%</th>\n",
       "      <td>9208.361572</td>\n",
       "      <td>10567.910645</td>\n",
       "      <td>7476.363770</td>\n",
       "      <td>9268.044678</td>\n",
       "      <td>9268.044678</td>\n",
       "      <td>6.048514e+11</td>\n",
       "    </tr>\n",
       "    <tr>\n",
       "      <th>max</th>\n",
       "      <td>58926.562500</td>\n",
       "      <td>64863.097656</td>\n",
       "      <td>53319.187500</td>\n",
       "      <td>58918.832031</td>\n",
       "      <td>58918.832031</td>\n",
       "      <td>2.267153e+12</td>\n",
       "    </tr>\n",
       "  </tbody>\n",
       "</table>\n",
       "</div>"
      ],
      "text/plain": [
       "               Open          High           Low         Close     Adj Close  \\\n",
       "count     80.000000     80.000000     80.000000     80.000000     80.000000   \n",
       "mean    7218.649754   9102.933809   6406.231481   7832.648848   7832.648848   \n",
       "std    10922.213782  13707.758410  10110.279685  11874.138181  11874.138181   \n",
       "min      216.867004    247.804001    171.509995    217.464005    217.464005   \n",
       "25%      510.451248    608.079269    503.574242    564.450485    564.450485   \n",
       "50%     4223.206055   5308.542236   3659.404907   4521.050049   4521.050049   \n",
       "75%     9208.361572  10567.910645   7476.363770   9268.044678   9268.044678   \n",
       "max    58926.562500  64863.097656  53319.187500  58918.832031  58918.832031   \n",
       "\n",
       "             Volume  \n",
       "count  8.000000e+01  \n",
       "mean   3.569021e+11  \n",
       "std    5.164707e+11  \n",
       "min    5.531023e+08  \n",
       "25%    2.220230e+09  \n",
       "50%    1.299798e+11  \n",
       "75%    6.048514e+11  \n",
       "max    2.267153e+12  "
      ]
     },
     "execution_count": 9,
     "metadata": {},
     "output_type": "execute_result"
    }
   ],
   "source": [
    "df_best.head() # observe the dataset\n",
    "df_best.isnull() # check for null value in dataset\n",
    "df_best.describe() # description of the dataset"
   ]
  },
  {
   "cell_type": "code",
   "execution_count": 10,
   "metadata": {},
   "outputs": [],
   "source": [
    "df_best = df_best.iloc[:,[3]] # locate the 3 column 'Close' column and drop the rest\n",
    "df_best = df_best.reset_index() #reset the index\n",
    "df_best = df_best[(df_best['Date'].dt.year > 2014) & (df_best['Date'].dt.year < 2021)] \n",
    "# filter the years for 2015 to 2020 as 2014 and 2021 have too many missing value"
   ]
  },
  {
   "cell_type": "code",
   "execution_count": 11,
   "metadata": {},
   "outputs": [],
   "source": [
    "df_best['year'] = df_best.Date.dt.year #extract the year from date column and create new column\n",
    "df_best['month'] = df_best.Date.dt.month_name() #extract the month from date column and create new column\n",
    "df_best = df_best.pivot_table(values='Close',index='month',columns='year')"
   ]
  },
  {
   "cell_type": "code",
   "execution_count": 12,
   "metadata": {},
   "outputs": [
    {
     "data": {
      "text/plain": [
       "<seaborn.matrix.ClusterGrid at 0x7f944246d730>"
      ]
     },
     "execution_count": 12,
     "metadata": {},
     "output_type": "execute_result"
    },
    {
     "data": {
      "image/png": "[encoded data removed]",
      "text/plain": [
       "<Figure size 720x720 with 4 Axes>"
      ]
     },
     "metadata": {
      "needs_background": "light"
     },
     "output_type": "display_data"
    }
   ],
   "source": [
    "sns.clustermap(df_best, cmap='coolwarm', standard_scale=1) #plot heatmap for the month and year with the value of bitcoins"
   ]
  },
  {
   "cell_type": "markdown",
   "metadata": {},
   "source": [
    "### Observation:\n",
    "From the heatmap we can see the the last quarter the prices are higher hence its advisable to sell on last half of the year and make purchase in the first half of the year."
   ]
  },
  {
   "cell_type": "markdown",
   "metadata": {},
   "source": [
    "# Part 3 : Machine learning with varies models and select the best for tuning."
   ]
  },
  {
   "cell_type": "code",
   "execution_count": 13,
   "metadata": {},
   "outputs": [
    {
     "data": {
      "text/html": [
       "<div>\n",
       "<style scoped>\n",
       "    .dataframe tbody tr th:only-of-type {\n",
       "        vertical-align: middle;\n",
       "    }\n",
       "\n",
       "    .dataframe tbody tr th {\n",
       "        vertical-align: top;\n",
       "    }\n",
       "\n",
       "    .dataframe thead th {\n",
       "        text-align: right;\n",
       "    }\n",
       "</style>\n",
       "<table border=\"1\" class=\"dataframe\">\n",
       "  <thead>\n",
       "    <tr style=\"text-align: right;\">\n",
       "      <th></th>\n",
       "      <th>BTC</th>\n",
       "      <th>BTC_an_Hour_Before</th>\n",
       "      <th>ETH</th>\n",
       "      <th>ADA</th>\n",
       "      <th>BNB</th>\n",
       "      <th>XRP</th>\n",
       "      <th>LTC</th>\n",
       "      <th>LINK</th>\n",
       "      <th>XLM</th>\n",
       "      <th>BCH</th>\n",
       "      <th>DOGE</th>\n",
       "      <th>XEM</th>\n",
       "      <th>XMR</th>\n",
       "      <th>EOS</th>\n",
       "      <th>BSV</th>\n",
       "      <th>TRX</th>\n",
       "      <th>MIOTA</th>\n",
       "      <th>THETA</th>\n",
       "      <th>VET</th>\n",
       "    </tr>\n",
       "  </thead>\n",
       "  <tbody>\n",
       "    <tr>\n",
       "      <th>count</th>\n",
       "      <td>17066.000000</td>\n",
       "      <td>17046.000000</td>\n",
       "      <td>17066.000000</td>\n",
       "      <td>17066.000000</td>\n",
       "      <td>17064.000000</td>\n",
       "      <td>17066.000000</td>\n",
       "      <td>17062.000000</td>\n",
       "      <td>17064.000000</td>\n",
       "      <td>17064.000000</td>\n",
       "      <td>17066.000000</td>\n",
       "      <td>17066.000000</td>\n",
       "      <td>17066.000000</td>\n",
       "      <td>17066.000000</td>\n",
       "      <td>17066.000000</td>\n",
       "      <td>17062.000000</td>\n",
       "      <td>17066.000000</td>\n",
       "      <td>17064.000000</td>\n",
       "      <td>17062.000000</td>\n",
       "      <td>17062.000000</td>\n",
       "    </tr>\n",
       "    <tr>\n",
       "      <th>mean</th>\n",
       "      <td>0.001768</td>\n",
       "      <td>0.001691</td>\n",
       "      <td>0.004881</td>\n",
       "      <td>0.002802</td>\n",
       "      <td>0.007439</td>\n",
       "      <td>0.006650</td>\n",
       "      <td>0.004883</td>\n",
       "      <td>0.005210</td>\n",
       "      <td>0.001983</td>\n",
       "      <td>0.005420</td>\n",
       "      <td>0.012569</td>\n",
       "      <td>0.002205</td>\n",
       "      <td>0.007097</td>\n",
       "      <td>0.006505</td>\n",
       "      <td>0.004549</td>\n",
       "      <td>0.008058</td>\n",
       "      <td>0.001497</td>\n",
       "      <td>0.004898</td>\n",
       "      <td>0.011786</td>\n",
       "    </tr>\n",
       "    <tr>\n",
       "      <th>std</th>\n",
       "      <td>0.184804</td>\n",
       "      <td>0.184766</td>\n",
       "      <td>0.244989</td>\n",
       "      <td>0.365675</td>\n",
       "      <td>0.366719</td>\n",
       "      <td>0.494366</td>\n",
       "      <td>0.331321</td>\n",
       "      <td>0.340015</td>\n",
       "      <td>0.352825</td>\n",
       "      <td>0.328605</td>\n",
       "      <td>0.677661</td>\n",
       "      <td>0.547969</td>\n",
       "      <td>0.418875</td>\n",
       "      <td>0.364183</td>\n",
       "      <td>0.382609</td>\n",
       "      <td>0.397861</td>\n",
       "      <td>0.463574</td>\n",
       "      <td>0.519068</td>\n",
       "      <td>0.557865</td>\n",
       "    </tr>\n",
       "    <tr>\n",
       "      <th>min</th>\n",
       "      <td>-3.630914</td>\n",
       "      <td>-3.630914</td>\n",
       "      <td>-4.869871</td>\n",
       "      <td>-5.810214</td>\n",
       "      <td>-6.089333</td>\n",
       "      <td>-8.918010</td>\n",
       "      <td>-6.537784</td>\n",
       "      <td>-5.455170</td>\n",
       "      <td>-7.532119</td>\n",
       "      <td>-5.916024</td>\n",
       "      <td>-11.549258</td>\n",
       "      <td>-22.470795</td>\n",
       "      <td>-3.581356</td>\n",
       "      <td>-7.368794</td>\n",
       "      <td>-8.464017</td>\n",
       "      <td>-5.806128</td>\n",
       "      <td>-7.827505</td>\n",
       "      <td>-8.816491</td>\n",
       "      <td>-8.009406</td>\n",
       "    </tr>\n",
       "    <tr>\n",
       "      <th>25%</th>\n",
       "      <td>-0.086513</td>\n",
       "      <td>-0.086549</td>\n",
       "      <td>-0.102944</td>\n",
       "      <td>-0.138830</td>\n",
       "      <td>-0.166762</td>\n",
       "      <td>-0.160089</td>\n",
       "      <td>-0.137765</td>\n",
       "      <td>-0.142459</td>\n",
       "      <td>-0.126550</td>\n",
       "      <td>-0.124082</td>\n",
       "      <td>-0.166183</td>\n",
       "      <td>-0.193369</td>\n",
       "      <td>-0.183731</td>\n",
       "      <td>-0.151430</td>\n",
       "      <td>-0.135218</td>\n",
       "      <td>-0.164082</td>\n",
       "      <td>-0.184041</td>\n",
       "      <td>-0.231969</td>\n",
       "      <td>-0.223764</td>\n",
       "    </tr>\n",
       "    <tr>\n",
       "      <th>50%</th>\n",
       "      <td>-0.000188</td>\n",
       "      <td>-0.000247</td>\n",
       "      <td>0.002966</td>\n",
       "      <td>-0.000614</td>\n",
       "      <td>0.006429</td>\n",
       "      <td>-0.000421</td>\n",
       "      <td>-0.000082</td>\n",
       "      <td>0.003415</td>\n",
       "      <td>-0.000692</td>\n",
       "      <td>0.004118</td>\n",
       "      <td>0.000546</td>\n",
       "      <td>0.002275</td>\n",
       "      <td>0.010076</td>\n",
       "      <td>0.003071</td>\n",
       "      <td>0.003421</td>\n",
       "      <td>0.006683</td>\n",
       "      <td>0.001501</td>\n",
       "      <td>-0.001729</td>\n",
       "      <td>0.005747</td>\n",
       "    </tr>\n",
       "    <tr>\n",
       "      <th>75%</th>\n",
       "      <td>0.089894</td>\n",
       "      <td>0.089763</td>\n",
       "      <td>0.111967</td>\n",
       "      <td>0.141408</td>\n",
       "      <td>0.178422</td>\n",
       "      <td>0.168005</td>\n",
       "      <td>0.140137</td>\n",
       "      <td>0.149003</td>\n",
       "      <td>0.133238</td>\n",
       "      <td>0.136014</td>\n",
       "      <td>0.169408</td>\n",
       "      <td>0.199970</td>\n",
       "      <td>0.192565</td>\n",
       "      <td>0.158578</td>\n",
       "      <td>0.141036</td>\n",
       "      <td>0.176114</td>\n",
       "      <td>0.188647</td>\n",
       "      <td>0.234492</td>\n",
       "      <td>0.250853</td>\n",
       "    </tr>\n",
       "    <tr>\n",
       "      <th>max</th>\n",
       "      <td>1.662487</td>\n",
       "      <td>1.662487</td>\n",
       "      <td>2.757711</td>\n",
       "      <td>7.006097</td>\n",
       "      <td>3.195816</td>\n",
       "      <td>5.226263</td>\n",
       "      <td>5.087648</td>\n",
       "      <td>4.383410</td>\n",
       "      <td>3.425496</td>\n",
       "      <td>4.487224</td>\n",
       "      <td>10.919756</td>\n",
       "      <td>9.706063</td>\n",
       "      <td>3.395138</td>\n",
       "      <td>3.713262</td>\n",
       "      <td>5.072529</td>\n",
       "      <td>4.743171</td>\n",
       "      <td>5.777684</td>\n",
       "      <td>5.792334</td>\n",
       "      <td>7.870340</td>\n",
       "    </tr>\n",
       "  </tbody>\n",
       "</table>\n",
       "</div>"
      ],
      "text/plain": [
       "                BTC  BTC_an_Hour_Before           ETH           ADA  \\\n",
       "count  17066.000000        17046.000000  17066.000000  17066.000000   \n",
       "mean       0.001768            0.001691      0.004881      0.002802   \n",
       "std        0.184804            0.184766      0.244989      0.365675   \n",
       "min       -3.630914           -3.630914     -4.869871     -5.810214   \n",
       "25%       -0.086513           -0.086549     -0.102944     -0.138830   \n",
       "50%       -0.000188           -0.000247      0.002966     -0.000614   \n",
       "75%        0.089894            0.089763      0.111967      0.141408   \n",
       "max        1.662487            1.662487      2.757711      7.006097   \n",
       "\n",
       "                BNB           XRP           LTC          LINK           XLM  \\\n",
       "count  17064.000000  17066.000000  17062.000000  17064.000000  17064.000000   \n",
       "mean       0.007439      0.006650      0.004883      0.005210      0.001983   \n",
       "std        0.366719      0.494366      0.331321      0.340015      0.352825   \n",
       "min       -6.089333     -8.918010     -6.537784     -5.455170     -7.532119   \n",
       "25%       -0.166762     -0.160089     -0.137765     -0.142459     -0.126550   \n",
       "50%        0.006429     -0.000421     -0.000082      0.003415     -0.000692   \n",
       "75%        0.178422      0.168005      0.140137      0.149003      0.133238   \n",
       "max        3.195816      5.226263      5.087648      4.383410      3.425496   \n",
       "\n",
       "                BCH          DOGE           XEM           XMR           EOS  \\\n",
       "count  17066.000000  17066.000000  17066.000000  17066.000000  17066.000000   \n",
       "mean       0.005420      0.012569      0.002205      0.007097      0.006505   \n",
       "std        0.328605      0.677661      0.547969      0.418875      0.364183   \n",
       "min       -5.916024    -11.549258    -22.470795     -3.581356     -7.368794   \n",
       "25%       -0.124082     -0.166183     -0.193369     -0.183731     -0.151430   \n",
       "50%        0.004118      0.000546      0.002275      0.010076      0.003071   \n",
       "75%        0.136014      0.169408      0.199970      0.192565      0.158578   \n",
       "max        4.487224     10.919756      9.706063      3.395138      3.713262   \n",
       "\n",
       "                BSV           TRX         MIOTA         THETA           VET  \n",
       "count  17062.000000  17066.000000  17064.000000  17062.000000  17062.000000  \n",
       "mean       0.004549      0.008058      0.001497      0.004898      0.011786  \n",
       "std        0.382609      0.397861      0.463574      0.519068      0.557865  \n",
       "min       -8.464017     -5.806128     -7.827505     -8.816491     -8.009406  \n",
       "25%       -0.135218     -0.164082     -0.184041     -0.231969     -0.223764  \n",
       "50%        0.003421      0.006683      0.001501     -0.001729      0.005747  \n",
       "75%        0.141036      0.176114      0.188647      0.234492      0.250853  \n",
       "max        5.072529      4.743171      5.777684      5.792334      7.870340  "
      ]
     },
     "execution_count": 13,
     "metadata": {},
     "output_type": "execute_result"
    }
   ],
   "source": [
    "df.head() #check the head of the dateaset\n",
    "df.isnull().sum() #check for null value \n",
    "df.describe()"
   ]
  },
  {
   "cell_type": "code",
   "execution_count": 14,
   "metadata": {},
   "outputs": [],
   "source": [
    "df = df.dropna() #drop missing value "
   ]
  },
  {
   "cell_type": "code",
   "execution_count": 15,
   "metadata": {},
   "outputs": [],
   "source": [
    "df.drop('Datetime',axis='columns', inplace=True) # drop date and time "
   ]
  },
  {
   "cell_type": "code",
   "execution_count": 16,
   "metadata": {},
   "outputs": [
    {
     "name": "stdout",
     "output_type": "stream",
     "text": [
      "<class 'pandas.core.frame.DataFrame'>\n",
      "Int64Index: 17029 entries, 0 to 17045\n",
      "Data columns (total 19 columns):\n",
      " #   Column              Non-Null Count  Dtype  \n",
      "---  ------              --------------  -----  \n",
      " 0   BTC                 17029 non-null  float64\n",
      " 1   BTC_an_Hour_Before  17029 non-null  float64\n",
      " 2   ETH                 17029 non-null  float64\n",
      " 3   ADA                 17029 non-null  float64\n",
      " 4   BNB                 17029 non-null  float64\n",
      " 5   XRP                 17029 non-null  float64\n",
      " 6   LTC                 17029 non-null  float64\n",
      " 7   LINK                17029 non-null  float64\n",
      " 8   XLM                 17029 non-null  float64\n",
      " 9   BCH                 17029 non-null  float64\n",
      " 10  DOGE                17029 non-null  float64\n",
      " 11  XEM                 17029 non-null  float64\n",
      " 12  XMR                 17029 non-null  float64\n",
      " 13  EOS                 17029 non-null  float64\n",
      " 14  BSV                 17029 non-null  float64\n",
      " 15  TRX                 17029 non-null  float64\n",
      " 16  MIOTA               17029 non-null  float64\n",
      " 17  THETA               17029 non-null  float64\n",
      " 18  VET                 17029 non-null  float64\n",
      "dtypes: float64(19)\n",
      "memory usage: 2.6 MB\n"
     ]
    }
   ],
   "source": [
    "df.info() #check for null value and data info"
   ]
  },
  {
   "cell_type": "code",
   "execution_count": 17,
   "metadata": {},
   "outputs": [],
   "source": [
    "X = df.iloc[:,[1,2,3,4,5,6,7,8,9,10,11,12,13,14,15,16,17,18]] # allocate all the features to the X column\n",
    "y = df.iloc[:, 0] # allocate the BTC column as the label in y"
   ]
  },
  {
   "cell_type": "markdown",
   "metadata": {},
   "source": [
    "# 1st Model :  Linear Regression"
   ]
  },
  {
   "cell_type": "code",
   "execution_count": 18,
   "metadata": {},
   "outputs": [],
   "source": [
    "# split for train and test\n",
    "X_train, X_test, y_train, y_test = train_test_split(X, y, test_size = 0.2, random_state = 11)"
   ]
  },
  {
   "cell_type": "code",
   "execution_count": 19,
   "metadata": {},
   "outputs": [],
   "source": [
    "sc = StandardScaler() #scale the data\n",
    "X_train = sc.fit_transform(X_train) #fit into the train dataset\n",
    "X_test = sc.transform(X_test)"
   ]
  },
  {
   "cell_type": "code",
   "execution_count": 20,
   "metadata": {},
   "outputs": [
    {
     "data": {
      "text/plain": [
       "LinearRegression()"
      ]
     },
     "execution_count": 20,
     "metadata": {},
     "output_type": "execute_result"
    }
   ],
   "source": [
    "regressor = LinearRegression() \n",
    "regressor.fit(X_train, y_train) # fit the train data in the regressor "
   ]
  },
  {
   "cell_type": "code",
   "execution_count": 21,
   "metadata": {},
   "outputs": [
    {
     "name": "stdout",
     "output_type": "stream",
     "text": [
      "0.0001817672180284855\n",
      "[-0.00069848  0.08266108  0.01289339  0.01755044  0.0005734   0.02793503\n",
      " -0.0040037   0.00617147  0.00449129  0.00417445  0.0063352   0.00554204\n",
      "  0.00439391  0.00268211  0.00383833  0.00535209  0.00442704  0.00735346]\n"
     ]
    }
   ],
   "source": [
    "print(regressor.intercept_) \n",
    "print(regressor.coef_)"
   ]
  },
  {
   "cell_type": "code",
   "execution_count": 22,
   "metadata": {},
   "outputs": [],
   "source": [
    "y_pred = regressor.predict(X_test) # do the prediction"
   ]
  },
  {
   "cell_type": "code",
   "execution_count": 23,
   "metadata": {},
   "outputs": [],
   "source": [
    "lr_mbe = metrics.mean_absolute_error(y_test, y_pred)\n",
    "lr_mse = metrics.mean_squared_error(y_test, y_pred)\n",
    "lr_rmse = np.sqrt(metrics.mean_squared_error(y_test, y_pred))\n",
    "df_lr = pd.DataFrame({'Actual': y_test, 'LR_Predicted': y_pred})\n",
    "df_lrr = pd.Series( {'Mean Absolute Error': lr_mbe, 'Mean Squared Error': lr_mse,'Root Mean Squared Error':lr_rmse})\n",
    "df_lrr = df_lrr.reset_index()\n",
    "df_lrr = df_lrr.rename(columns = {0:'LR', 'index':'Eval'}, inplace = False)"
   ]
  },
  {
   "cell_type": "code",
   "execution_count": 24,
   "metadata": {},
   "outputs": [
    {
     "data": {
      "text/plain": [
       "Text(0.5, 0, 'True (ground truth)')"
      ]
     },
     "execution_count": 24,
     "metadata": {},
     "output_type": "execute_result"
    },
    {
     "data": {
      "image/png": "[encoded data removed]",
      "text/plain": [
       "<Figure size 432x288 with 1 Axes>"
      ]
     },
     "metadata": {
      "needs_background": "light"
     },
     "output_type": "display_data"
    }
   ],
   "source": [
    "# plot the data with prediction and truth and observe \n",
    "plt.scatter(y_test, y_pred, color = 'b')\n",
    "plt.title('Linear Regression')\n",
    "plt.ylabel('Model Predictions')\n",
    "plt.xlabel('True (ground truth)')"
   ]
  },
  {
   "cell_type": "markdown",
   "metadata": {},
   "source": [
    "# 2nd Model : SVR"
   ]
  },
  {
   "cell_type": "code",
   "execution_count": 25,
   "metadata": {},
   "outputs": [],
   "source": [
    " X_train, X_test, y_train, y_test = train_test_split(X, y, test_size = 0.2, random_state = 11)"
   ]
  },
  {
   "cell_type": "code",
   "execution_count": 26,
   "metadata": {},
   "outputs": [],
   "source": [
    "sc = StandardScaler() #scale the data\n",
    "X_train = sc.fit_transform(X_train) #fit into the train dataset\n",
    "X_test = sc.transform(X_test)"
   ]
  },
  {
   "cell_type": "code",
   "execution_count": 27,
   "metadata": {},
   "outputs": [],
   "source": [
    "regressor = SVR(kernel = 'rbf')\n",
    "regressor.fit(X, y)\n",
    "y_pred = regressor.predict(X_test) # predict "
   ]
  },
  {
   "cell_type": "code",
   "execution_count": 28,
   "metadata": {},
   "outputs": [],
   "source": [
    "svr_mbe = metrics.mean_absolute_error(y_test, y_pred)\n",
    "svr_mse = metrics.mean_squared_error(y_test, y_pred)\n",
    "svr_rmse = np.sqrt(metrics.mean_squared_error(y_test, y_pred))\n",
    "df_svr = pd.DataFrame({'Actual': y_test, 'SVR_Predicted': y_pred})\n",
    "df_svrr = pd.Series( {'Mean Absolute Error': svr_mbe, 'Mean Squared Error': svr_mse,'Root Mean Squared Error':svr_rmse})\n",
    "df_svrr = df_svrr.reset_index()\n",
    "df_svrr = df_svrr.rename(columns = {0:'SVR', 'index':'Eval'}, inplace = False)"
   ]
  },
  {
   "cell_type": "code",
   "execution_count": 29,
   "metadata": {},
   "outputs": [
    {
     "data": {
      "text/plain": [
       "Text(0.5, 0, 'True (ground truth)')"
      ]
     },
     "execution_count": 29,
     "metadata": {},
     "output_type": "execute_result"
    },
    {
     "data": {
      "image/png": "[encoded data removed]",
      "text/plain": [
       "<Figure size 432x288 with 1 Axes>"
      ]
     },
     "metadata": {
      "needs_background": "light"
     },
     "output_type": "display_data"
    }
   ],
   "source": [
    "# plot the label and prediction\n",
    "plt.scatter(y_test, y_pred, color = 'r')\n",
    "plt.title('SVR')\n",
    "plt.ylabel('Model Predictions')\n",
    "plt.xlabel('True (ground truth)')"
   ]
  },
  {
   "cell_type": "markdown",
   "metadata": {},
   "source": [
    "# 3rd Model : XG Boost"
   ]
  },
  {
   "cell_type": "code",
   "execution_count": 30,
   "metadata": {},
   "outputs": [],
   "source": [
    "X_train, X_test, y_train, y_test = train_test_split(X, y, test_size = 0.2, random_state = 11)"
   ]
  },
  {
   "cell_type": "code",
   "execution_count": 31,
   "metadata": {},
   "outputs": [],
   "source": [
    "regressor = xgb.XGBRegressor()"
   ]
  },
  {
   "cell_type": "code",
   "execution_count": 32,
   "metadata": {},
   "outputs": [],
   "source": [
    "regressor.fit(X_train, y_train)\n",
    "y_pred = regressor.predict(X_test)"
   ]
  },
  {
   "cell_type": "code",
   "execution_count": 33,
   "metadata": {},
   "outputs": [],
   "source": [
    "xgb_mbe = metrics.mean_absolute_error(y_test, y_pred)\n",
    "xgb_mse = metrics.mean_squared_error(y_test, y_pred)\n",
    "xgb_rmse = np.sqrt(metrics.mean_squared_error(y_test, y_pred))\n",
    "df_xgb = pd.DataFrame({'Actual': y_test, 'XGB_Predicted': y_pred})\n",
    "df_xgbr = pd.Series( {'Mean Absolute Error': xgb_mbe, 'Mean Squared Error': xgb_mse,'Root Mean Squared Error':xgb_rmse})\n",
    "df_xgbr = df_xgbr.reset_index()\n",
    "df_xgbr = df_xgbr.rename(columns = {0:'XGB', 'index':'Eval'}, inplace = False)"
   ]
  },
  {
   "cell_type": "code",
   "execution_count": 34,
   "metadata": {},
   "outputs": [
    {
     "data": {
      "text/plain": [
       "Text(0.5, 0, 'True (ground truth)')"
      ]
     },
     "execution_count": 34,
     "metadata": {},
     "output_type": "execute_result"
    },
    {
     "data": {
      "image/png": "[encoded data removed]",
      "text/plain": [
       "<Figure size 432x288 with 1 Axes>"
      ]
     },
     "metadata": {
      "needs_background": "light"
     },
     "output_type": "display_data"
    }
   ],
   "source": [
    "plt.scatter(y_test, y_pred, color = 'y')\n",
    "plt.title('XGBoost')\n",
    "plt.ylabel('Model Predictions')\n",
    "plt.xlabel('True (ground truth)')"
   ]
  },
  {
   "cell_type": "markdown",
   "metadata": {},
   "source": [
    "# 4th Model : Random Forest"
   ]
  },
  {
   "cell_type": "code",
   "execution_count": 35,
   "metadata": {},
   "outputs": [],
   "source": [
    "X_train, X_test, y_train, y_test = train_test_split(X, y, test_size = 0.2, random_state = 11)"
   ]
  },
  {
   "cell_type": "code",
   "execution_count": 36,
   "metadata": {},
   "outputs": [],
   "source": [
    "regressor = RandomForestRegressor(n_estimators=20, random_state=11)\n",
    "regressor.fit(X_train, y_train)\n",
    "y_pred = regressor.predict(X_test)"
   ]
  },
  {
   "cell_type": "code",
   "execution_count": 37,
   "metadata": {},
   "outputs": [],
   "source": [
    "rf_mbe = metrics.mean_absolute_error(y_test, y_pred)\n",
    "rf_mse = metrics.mean_squared_error(y_test, y_pred)\n",
    "rf_rmse = np.sqrt(metrics.mean_squared_error(y_test, y_pred))\n",
    "df_rf = pd.DataFrame({'Actual': y_test, 'RF_Predicted': y_pred})\n",
    "df_rfr = pd.Series( {'Mean Absolute Error': rf_mbe, 'Mean Squared Error': rf_mse,'Root Mean Squared Error':rf_rmse})\n",
    "df_rfr = df_rfr.reset_index()\n",
    "df_rfr = df_rfr.rename(columns = {0:'RF', 'index':'Eval'}, inplace = False)"
   ]
  },
  {
   "cell_type": "code",
   "execution_count": 38,
   "metadata": {},
   "outputs": [
    {
     "data": {
      "text/plain": [
       "Text(0.5, 0, 'True (ground truth)')"
      ]
     },
     "execution_count": 38,
     "metadata": {},
     "output_type": "execute_result"
    },
    {
     "data": {
      "image/png": "[encoded data removed]",
      "text/plain": [
       "<Figure size 432x288 with 1 Axes>"
      ]
     },
     "metadata": {
      "needs_background": "light"
     },
     "output_type": "display_data"
    }
   ],
   "source": [
    "plt.scatter(y_test, y_pred, color = 'g')\n",
    "plt.title('Random Forest')\n",
    "plt.ylabel('Model Predictions')\n",
    "plt.xlabel('True (ground truth)')"
   ]
  },
  {
   "cell_type": "markdown",
   "metadata": {},
   "source": [
    "### Result\n",
    "Below i will merge the result from the 4 models and compare them\\\n",
    "LR = Linear Regression\\\n",
    "SVR = Support Vector Regression\\\n",
    "xgb = XGBoost\\\n",
    "rf = Random Forest"
   ]
  },
  {
   "cell_type": "code",
   "execution_count": 39,
   "metadata": {},
   "outputs": [],
   "source": [
    "df_result = pd.merge(df_lr,df_svr,'inner','Actual')\n",
    "df_result = pd.merge(df_result,df_xgb,'inner','Actual')\n",
    "df_result = pd.merge(df_result,df_rf,'inner','Actual')"
   ]
  },
  {
   "cell_type": "code",
   "execution_count": 40,
   "metadata": {},
   "outputs": [],
   "source": [
    "df_eval = pd.merge(df_lrr,df_svrr,'inner','Eval')\n",
    "df_eval = pd.merge(df_eval,df_xgbr,'inner','Eval')\n",
    "df_eval = pd.merge(df_eval,df_rfr,'inner','Eval')"
   ]
  },
  {
   "cell_type": "code",
   "execution_count": 41,
   "metadata": {},
   "outputs": [
    {
     "data": {
      "text/html": [
       "<div>\n",
       "<style scoped>\n",
       "    .dataframe tbody tr th:only-of-type {\n",
       "        vertical-align: middle;\n",
       "    }\n",
       "\n",
       "    .dataframe tbody tr th {\n",
       "        vertical-align: top;\n",
       "    }\n",
       "\n",
       "    .dataframe thead th {\n",
       "        text-align: right;\n",
       "    }\n",
       "</style>\n",
       "<table border=\"1\" class=\"dataframe\">\n",
       "  <thead>\n",
       "    <tr style=\"text-align: right;\">\n",
       "      <th></th>\n",
       "      <th>Actual</th>\n",
       "      <th>LR_Predicted</th>\n",
       "      <th>SVR_Predicted</th>\n",
       "      <th>XGB_Predicted</th>\n",
       "      <th>RF_Predicted</th>\n",
       "    </tr>\n",
       "  </thead>\n",
       "  <tbody>\n",
       "    <tr>\n",
       "      <th>0</th>\n",
       "      <td>0.089976</td>\n",
       "      <td>0.285621</td>\n",
       "      <td>-0.022728</td>\n",
       "      <td>0.356758</td>\n",
       "      <td>0.308151</td>\n",
       "    </tr>\n",
       "    <tr>\n",
       "      <th>1</th>\n",
       "      <td>0.083295</td>\n",
       "      <td>0.015076</td>\n",
       "      <td>0.022790</td>\n",
       "      <td>0.004299</td>\n",
       "      <td>0.022476</td>\n",
       "    </tr>\n",
       "    <tr>\n",
       "      <th>2</th>\n",
       "      <td>0.069510</td>\n",
       "      <td>0.101981</td>\n",
       "      <td>0.401785</td>\n",
       "      <td>0.141954</td>\n",
       "      <td>0.129379</td>\n",
       "    </tr>\n",
       "    <tr>\n",
       "      <th>3</th>\n",
       "      <td>-0.065514</td>\n",
       "      <td>-0.021737</td>\n",
       "      <td>-0.043639</td>\n",
       "      <td>-0.053693</td>\n",
       "      <td>-0.028670</td>\n",
       "    </tr>\n",
       "    <tr>\n",
       "      <th>4</th>\n",
       "      <td>0.222819</td>\n",
       "      <td>0.164304</td>\n",
       "      <td>0.366411</td>\n",
       "      <td>0.152097</td>\n",
       "      <td>0.209945</td>\n",
       "    </tr>\n",
       "  </tbody>\n",
       "</table>\n",
       "</div>"
      ],
      "text/plain": [
       "     Actual  LR_Predicted  SVR_Predicted  XGB_Predicted  RF_Predicted\n",
       "0  0.089976      0.285621      -0.022728       0.356758      0.308151\n",
       "1  0.083295      0.015076       0.022790       0.004299      0.022476\n",
       "2  0.069510      0.101981       0.401785       0.141954      0.129379\n",
       "3 -0.065514     -0.021737      -0.043639      -0.053693     -0.028670\n",
       "4  0.222819      0.164304       0.366411       0.152097      0.209945"
      ]
     },
     "metadata": {},
     "output_type": "display_data"
    },
    {
     "data": {
      "text/html": [
       "<div>\n",
       "<style scoped>\n",
       "    .dataframe tbody tr th:only-of-type {\n",
       "        vertical-align: middle;\n",
       "    }\n",
       "\n",
       "    .dataframe tbody tr th {\n",
       "        vertical-align: top;\n",
       "    }\n",
       "\n",
       "    .dataframe thead th {\n",
       "        text-align: right;\n",
       "    }\n",
       "</style>\n",
       "<table border=\"1\" class=\"dataframe\">\n",
       "  <thead>\n",
       "    <tr style=\"text-align: right;\">\n",
       "      <th></th>\n",
       "      <th>Eval</th>\n",
       "      <th>LR</th>\n",
       "      <th>SVR</th>\n",
       "      <th>XGB</th>\n",
       "      <th>RF</th>\n",
       "    </tr>\n",
       "  </thead>\n",
       "  <tbody>\n",
       "    <tr>\n",
       "      <th>0</th>\n",
       "      <td>Mean Absolute Error</td>\n",
       "      <td>0.066438</td>\n",
       "      <td>0.107681</td>\n",
       "      <td>0.066363</td>\n",
       "      <td>0.065375</td>\n",
       "    </tr>\n",
       "    <tr>\n",
       "      <th>1</th>\n",
       "      <td>Mean Squared Error</td>\n",
       "      <td>0.009260</td>\n",
       "      <td>0.026482</td>\n",
       "      <td>0.009910</td>\n",
       "      <td>0.008901</td>\n",
       "    </tr>\n",
       "    <tr>\n",
       "      <th>2</th>\n",
       "      <td>Root Mean Squared Error</td>\n",
       "      <td>0.096228</td>\n",
       "      <td>0.162732</td>\n",
       "      <td>0.099547</td>\n",
       "      <td>0.094343</td>\n",
       "    </tr>\n",
       "  </tbody>\n",
       "</table>\n",
       "</div>"
      ],
      "text/plain": [
       "                      Eval        LR       SVR       XGB        RF\n",
       "0      Mean Absolute Error  0.066438  0.107681  0.066363  0.065375\n",
       "1       Mean Squared Error  0.009260  0.026482  0.009910  0.008901\n",
       "2  Root Mean Squared Error  0.096228  0.162732  0.099547  0.094343"
      ]
     },
     "metadata": {},
     "output_type": "display_data"
    }
   ],
   "source": [
    "display(df_result.head())\n",
    "display(df_eval.head())"
   ]
  },
  {
   "cell_type": "markdown",
   "metadata": {},
   "source": [
    "### Observation:\n",
    "From the table we can see that Random forest gives the best prediction as compared to the other models with the lowest for the 3 errors."
   ]
  },
  {
   "cell_type": "markdown",
   "metadata": {},
   "source": [
    "### Hyper Parimeter Tuning:\n",
    "We will use Random Forest for fine tuning to get the best result."
   ]
  },
  {
   "cell_type": "code",
   "execution_count": 42,
   "metadata": {},
   "outputs": [],
   "source": [
    "index = [] # create a empty list for index\n",
    "result = [] # create a empty list for result\n",
    "for test_size in np.arange(0.15, 0.85, 0.01):\n",
    "    X_train, X_test, y_train, y_test = train_test_split(X, y, test_size = test_size, random_state = 11) # do train test split\n",
    "    # input regressor with fix n_estiator and random state to have saame data set to do comparison\n",
    "    regressor = RandomForestRegressor(n_estimators = 20, random_state = 11) \n",
    "    regressor.fit(X_train, y_train) # fit to model\n",
    "    y_pred = regressor.predict(X_test) # predict \n",
    "    results = (metrics.mean_absolute_error(y_test, y_pred)) # use mean absolute error for comparison \n",
    "    index.append(test_size)\n",
    "    result.append(results)"
   ]
  },
  {
   "cell_type": "code",
   "execution_count": 43,
   "metadata": {},
   "outputs": [],
   "source": [
    "df_test = pd.DataFrame({'Test Size': index, 'Result': result}) #insert into dataframe"
   ]
  },
  {
   "cell_type": "code",
   "execution_count": 44,
   "metadata": {},
   "outputs": [
    {
     "data": {
      "text/plain": [
       "<AxesSubplot:xlabel='Test Size'>"
      ]
     },
     "execution_count": 44,
     "metadata": {},
     "output_type": "execute_result"
    },
    {
     "data": {
      "image/png": "[encoded data removed]",
      "text/plain": [
       "<Figure size 432x288 with 1 Axes>"
      ]
     },
     "metadata": {
      "needs_background": "light"
     },
     "output_type": "display_data"
    }
   ],
   "source": [
    "df_test.plot(x = 'Test Size') # plot the graph for visualation "
   ]
  },
  {
   "cell_type": "code",
   "execution_count": 45,
   "metadata": {},
   "outputs": [
    {
     "data": {
      "text/html": [
       "<div>\n",
       "<style scoped>\n",
       "    .dataframe tbody tr th:only-of-type {\n",
       "        vertical-align: middle;\n",
       "    }\n",
       "\n",
       "    .dataframe tbody tr th {\n",
       "        vertical-align: top;\n",
       "    }\n",
       "\n",
       "    .dataframe thead th {\n",
       "        text-align: right;\n",
       "    }\n",
       "</style>\n",
       "<table border=\"1\" class=\"dataframe\">\n",
       "  <thead>\n",
       "    <tr style=\"text-align: right;\">\n",
       "      <th></th>\n",
       "      <th>Test Size</th>\n",
       "      <th>Result</th>\n",
       "    </tr>\n",
       "  </thead>\n",
       "  <tbody>\n",
       "    <tr>\n",
       "      <th>13</th>\n",
       "      <td>0.28</td>\n",
       "      <td>0.064880</td>\n",
       "    </tr>\n",
       "    <tr>\n",
       "      <th>4</th>\n",
       "      <td>0.19</td>\n",
       "      <td>0.065046</td>\n",
       "    </tr>\n",
       "    <tr>\n",
       "      <th>9</th>\n",
       "      <td>0.24</td>\n",
       "      <td>0.065065</td>\n",
       "    </tr>\n",
       "    <tr>\n",
       "      <th>5</th>\n",
       "      <td>0.20</td>\n",
       "      <td>0.065375</td>\n",
       "    </tr>\n",
       "    <tr>\n",
       "      <th>10</th>\n",
       "      <td>0.25</td>\n",
       "      <td>0.065376</td>\n",
       "    </tr>\n",
       "  </tbody>\n",
       "</table>\n",
       "</div>"
      ],
      "text/plain": [
       "    Test Size    Result\n",
       "13       0.28  0.064880\n",
       "4        0.19  0.065046\n",
       "9        0.24  0.065065\n",
       "5        0.20  0.065375\n",
       "10       0.25  0.065376"
      ]
     },
     "execution_count": 45,
     "metadata": {},
     "output_type": "execute_result"
    }
   ],
   "source": [
    "df_test.sort_values(by=\"Result\",ascending=True).head()"
   ]
  },
  {
   "cell_type": "code",
   "execution_count": 58,
   "metadata": {},
   "outputs": [
    {
     "name": "stdout",
     "output_type": "stream",
     "text": [
      "Best Test Size : 0.28000000000000014\n"
     ]
    }
   ],
   "source": [
    "num = df_test.sort_values(by=\"Result\",ascending=True).head()\n",
    "num = num.reset_index()\n",
    "num = num['Test Size'][0]\n",
    "print('Best Test Size :', num)"
   ]
  },
  {
   "cell_type": "markdown",
   "metadata": {},
   "source": [
    "### Observation:\n",
    "After testing the test size in range of 15% to 85% to prevent from overfitting or underfitting with fix random state of 11, we will use the best test size for the testing below to find best number of trees."
   ]
  },
  {
   "cell_type": "code",
   "execution_count": 53,
   "metadata": {},
   "outputs": [],
   "source": [
    "num_of_estimator = [10,50,100,150,200,250]"
   ]
  },
  {
   "cell_type": "code",
   "execution_count": 64,
   "metadata": {},
   "outputs": [],
   "source": [
    "index = [] # create a empty list for index\n",
    "result = [] # create a empty list for result\n",
    "for tree in num_of_estimator:\n",
    "    X_train, X_test, y_train, y_test = train_test_split(X, y, test_size = num, random_state = 11)\n",
    "    regressor = RandomForestRegressor(n_estimators=tree, random_state=11) #use range for n_estimator \n",
    "    regressor.fit(X_train, y_train) # fit regressor\n",
    "    y_pred = regressor.predict(X_test)\n",
    "    results = (metrics.mean_absolute_error(y_test, y_pred)) # use mean absolute error for comparison\n",
    "    index.append(tree)\n",
    "    result.append(results)"
   ]
  },
  {
   "cell_type": "code",
   "execution_count": 65,
   "metadata": {},
   "outputs": [],
   "source": [
    "df_result_rf = pd.DataFrame({'Num_of_Trees': index, 'Result': result}) # create dataframe "
   ]
  },
  {
   "cell_type": "code",
   "execution_count": 66,
   "metadata": {},
   "outputs": [
    {
     "data": {
      "text/plain": [
       "<AxesSubplot:xlabel='Num_of_Trees'>"
      ]
     },
     "execution_count": 66,
     "metadata": {},
     "output_type": "execute_result"
    },
    {
     "data": {
      "image/png": "[encoded data removed]",
      "text/plain": [
       "<Figure size 432x288 with 1 Axes>"
      ]
     },
     "metadata": {
      "needs_background": "light"
     },
     "output_type": "display_data"
    }
   ],
   "source": [
    "df_result_rf.plot(x = 'Num_of_Trees') # plot the graph for visualation "
   ]
  },
  {
   "cell_type": "code",
   "execution_count": 67,
   "metadata": {},
   "outputs": [
    {
     "data": {
      "text/html": [
       "<div>\n",
       "<style scoped>\n",
       "    .dataframe tbody tr th:only-of-type {\n",
       "        vertical-align: middle;\n",
       "    }\n",
       "\n",
       "    .dataframe tbody tr th {\n",
       "        vertical-align: top;\n",
       "    }\n",
       "\n",
       "    .dataframe thead th {\n",
       "        text-align: right;\n",
       "    }\n",
       "</style>\n",
       "<table border=\"1\" class=\"dataframe\">\n",
       "  <thead>\n",
       "    <tr style=\"text-align: right;\">\n",
       "      <th></th>\n",
       "      <th>Num_of_Trees</th>\n",
       "      <th>Result</th>\n",
       "    </tr>\n",
       "  </thead>\n",
       "  <tbody>\n",
       "    <tr>\n",
       "      <th>5</th>\n",
       "      <td>250</td>\n",
       "      <td>0.063895</td>\n",
       "    </tr>\n",
       "    <tr>\n",
       "      <th>4</th>\n",
       "      <td>200</td>\n",
       "      <td>0.063925</td>\n",
       "    </tr>\n",
       "    <tr>\n",
       "      <th>3</th>\n",
       "      <td>150</td>\n",
       "      <td>0.064011</td>\n",
       "    </tr>\n",
       "    <tr>\n",
       "      <th>2</th>\n",
       "      <td>100</td>\n",
       "      <td>0.064158</td>\n",
       "    </tr>\n",
       "    <tr>\n",
       "      <th>1</th>\n",
       "      <td>50</td>\n",
       "      <td>0.064499</td>\n",
       "    </tr>\n",
       "  </tbody>\n",
       "</table>\n",
       "</div>"
      ],
      "text/plain": [
       "   Num_of_Trees    Result\n",
       "5           250  0.063895\n",
       "4           200  0.063925\n",
       "3           150  0.064011\n",
       "2           100  0.064158\n",
       "1            50  0.064499"
      ]
     },
     "execution_count": 67,
     "metadata": {},
     "output_type": "execute_result"
    }
   ],
   "source": [
    "df_result_rf.sort_values(by=\"Result\",ascending=True).head()"
   ]
  },
  {
   "cell_type": "markdown",
   "metadata": {},
   "source": [
    "### Observation:\n",
    "After testing the higher the n_estimator the better the performance however we can see that there is little improvements after 150 trees hence to have a better performance and faster model the ideal n_estimator should be set at 150.  \n",
    "\n",
    "### Please note for every reset percentage may change as the we are using real life data and market fluctration may cause the model percentage to change for better result with different amount of n_estimator."
   ]
  },
  {
   "cell_type": "markdown",
   "metadata": {},
   "source": [
    "# Final Model"
   ]
  },
  {
   "cell_type": "code",
   "execution_count": 59,
   "metadata": {},
   "outputs": [],
   "source": [
    "X_train, X_test, y_train, y_test = train_test_split(X, y, test_size = num, random_state = 11)\n",
    "regressor = RandomForestRegressor(n_estimators=150, random_state=11) #use range for n_estimator \n",
    "regressor.fit(X_train, y_train) # fit regressor\n",
    "y_pred = regressor.predict(X_test)"
   ]
  },
  {
   "cell_type": "code",
   "execution_count": 60,
   "metadata": {},
   "outputs": [],
   "source": [
    "mbe = metrics.mean_absolute_error(y_test, y_pred)\n",
    "mse = metrics.mean_squared_error(y_test, y_pred)\n",
    "rmse = np.sqrt(metrics.mean_squared_error(y_test, y_pred))\n",
    "best_predict = pd.DataFrame({'Actual': y_test, 'Best_Predicted': y_pred})\n",
    "best_df = pd.Series( {'Mean Absolute Error': mbe, 'Mean Squared Error': mse,'Root Mean Squared Error':rmse})"
   ]
  },
  {
   "cell_type": "code",
   "execution_count": 61,
   "metadata": {},
   "outputs": [
    {
     "data": {
      "text/html": [
       "<div>\n",
       "<style scoped>\n",
       "    .dataframe tbody tr th:only-of-type {\n",
       "        vertical-align: middle;\n",
       "    }\n",
       "\n",
       "    .dataframe tbody tr th {\n",
       "        vertical-align: top;\n",
       "    }\n",
       "\n",
       "    .dataframe thead th {\n",
       "        text-align: right;\n",
       "    }\n",
       "</style>\n",
       "<table border=\"1\" class=\"dataframe\">\n",
       "  <thead>\n",
       "    <tr style=\"text-align: right;\">\n",
       "      <th></th>\n",
       "      <th>Actual</th>\n",
       "      <th>Best_Predicted</th>\n",
       "    </tr>\n",
       "  </thead>\n",
       "  <tbody>\n",
       "    <tr>\n",
       "      <th>4219</th>\n",
       "      <td>0.089976</td>\n",
       "      <td>0.295685</td>\n",
       "    </tr>\n",
       "    <tr>\n",
       "      <th>9121</th>\n",
       "      <td>0.083295</td>\n",
       "      <td>0.021361</td>\n",
       "    </tr>\n",
       "    <tr>\n",
       "      <th>1164</th>\n",
       "      <td>0.069510</td>\n",
       "      <td>0.118806</td>\n",
       "    </tr>\n",
       "    <tr>\n",
       "      <th>10069</th>\n",
       "      <td>-0.065514</td>\n",
       "      <td>-0.053327</td>\n",
       "    </tr>\n",
       "    <tr>\n",
       "      <th>16851</th>\n",
       "      <td>0.222819</td>\n",
       "      <td>0.179692</td>\n",
       "    </tr>\n",
       "  </tbody>\n",
       "</table>\n",
       "</div>"
      ],
      "text/plain": [
       "         Actual  Best_Predicted\n",
       "4219   0.089976        0.295685\n",
       "9121   0.083295        0.021361\n",
       "1164   0.069510        0.118806\n",
       "10069 -0.065514       -0.053327\n",
       "16851  0.222819        0.179692"
      ]
     },
     "metadata": {},
     "output_type": "display_data"
    }
   ],
   "source": [
    "display(best_predict.head())"
   ]
  },
  {
   "cell_type": "code",
   "execution_count": 62,
   "metadata": {},
   "outputs": [
    {
     "data": {
      "text/plain": [
       "Mean Absolute Error        0.064011\n",
       "Mean Squared Error         0.008624\n",
       "Root Mean Squared Error    0.092866\n",
       "dtype: float64"
      ]
     },
     "execution_count": 62,
     "metadata": {},
     "output_type": "execute_result"
    }
   ],
   "source": [
    "best_df"
   ]
  },
  {
   "cell_type": "code",
   "execution_count": 63,
   "metadata": {},
   "outputs": [
    {
     "data": {
      "text/plain": [
       "Text(0.5, 0, 'True (ground truth)')"
      ]
     },
     "execution_count": 63,
     "metadata": {},
     "output_type": "execute_result"
    },
    {
     "data": {
      "image/png": "[encoded data removed]",
      "text/plain": [
       "<Figure size 432x288 with 1 Axes>"
      ]
     },
     "metadata": {
      "needs_background": "light"
     },
     "output_type": "display_data"
    }
   ],
   "source": [
    "plt.scatter(y_test, y_pred, color = 'g')\n",
    "plt.title('Random Forest')\n",
    "plt.ylabel('Model Predictions')\n",
    "plt.xlabel('True (ground truth)')"
   ]
  },
  {
   "cell_type": "markdown",
   "metadata": {},
   "source": [
    "# ***End***"
   ]
  }
 ],
 "metadata": {
  "kernelspec": {
   "display_name": "Python 3",
   "language": "python",
   "name": "python3"
  },
  "language_info": {
   "codemirror_mode": {
    "name": "ipython",
    "version": 3
   },
   "file_extension": ".py",
   "mimetype": "text/x-python",
   "name": "python",
   "nbconvert_exporter": "python",
   "pygments_lexer": "ipython3",
   "version": "3.8.5"
  }
 },
 "nbformat": 4,
 "nbformat_minor": 4
}
